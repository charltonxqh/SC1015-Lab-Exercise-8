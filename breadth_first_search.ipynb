{
 "cells": [
  {
   "cell_type": "markdown",
   "id": "d0c33dd8",
   "metadata": {},
   "source": [
    "## Breadth-first Search (BFS) \n",
    "\n",
    "---\n",
    "\n",
    "This notebook implements a breadth-first search (BFS) algorithm to explore a maze from a given starting point, ensuring that the path found passes through all four corners of the maze. The algorithm iterates through the maze using a queue, expanding to neighboring cells until it reaches each corner. If a corner is encountered, it is removed from the list of remaining corners to visit. The function returns a list of segments, where each segment represents a path from the starting point to one of the corners. Finally, the `show_solution` function visualizes the maze and the complete path that passes through all four corners.\n",
    "\n",
    "<br/>\n"
   ]
  },
  {
   "cell_type": "code",
   "execution_count": 1,
   "id": "e477aec4",
   "metadata": {},
   "outputs": [
    {
     "data": {
      "image/png": "[encoded data removed]",
      "text/plain": [
       "<Figure size 300x300 with 1 Axes>"
      ]
     },
     "metadata": {},
     "output_type": "display_data"
    },
    {
     "data": {
      "image/png": "[encoded data removed]",
      "text/plain": [
       "<Figure size 300x300 with 1 Axes>"
      ]
     },
     "metadata": {},
     "output_type": "display_data"
    },
    {
     "data": {
      "image/png": "[encoded data removed]",
      "text/plain": [
       "<Figure size 300x300 with 1 Axes>"
      ]
     },
     "metadata": {},
     "output_type": "display_data"
    },
    {
     "data": {
      "image/png": "[encoded data removed]",
      "text/plain": [
       "<Figure size 300x300 with 1 Axes>"
      ]
     },
     "metadata": {},
     "output_type": "display_data"
    },
    {
     "data": {
      "text/plain": [
       "54"
      ]
     },
     "execution_count": 1,
     "metadata": {},
     "output_type": "execute_result"
    }
   ],
   "source": [
    "from maze_visualizer import *\n",
    "from collections import deque\n",
    "\n",
    "\n",
    "def bfs(maze, start):\n",
    "    corners = [(1, 1), (1, len(maze[0]) - 2), (len(maze) - 2, 1), (len(maze) - 2, len(maze[0]) - 2)]\n",
    "    \n",
    "    # Record segments of complete path\n",
    "    path_full = []\n",
    "    \n",
    "    # Define the four possible directions: up, down, left, right\n",
    "    directions = [(-1, 0), (1, 0), (0, -1), (0, 1)]\n",
    "    \n",
    "    while len(corners):    \n",
    "        # Initialize a queue for BFS\n",
    "        queue = deque([(start, [start])])\n",
    "\n",
    "        # Initialize a set to keep track of visited cells\n",
    "        visited = set()\n",
    "\n",
    "        # Mark the start cell as visited\n",
    "        visited.add(start)\n",
    "\n",
    "        # Perform BFS\n",
    "        while queue:\n",
    "            current_cell, path = queue.popleft()\n",
    "\n",
    "            if current_cell in corners:\n",
    "                path_full.append(path)\n",
    "                corners.remove(current_cell)\n",
    "                start = current_cell\n",
    "                break\n",
    "\n",
    "            for direction in directions:\n",
    "                new_cell = (current_cell[0] + direction[0], current_cell[1] + direction[1])\n",
    "                if 0 <= new_cell[0] < len(maze) and 0 <= new_cell[1] < len(maze[0]) and maze[new_cell[0]][new_cell[1]] != 1 and new_cell not in visited:\n",
    "                    queue.append((new_cell, path + [new_cell]))\n",
    "                    visited.add(new_cell)\n",
    "    \n",
    "    \n",
    "    return path_full\n",
    "\n",
    "\n",
    "\n",
    "# Breadth-first search\n",
    "start = (5, 6)\n",
    "path = bfs(sample_maze, start)\n",
    "show_solution(sample_maze, start, path)\n",
    "count_steps(path)"
   ]
  },
  {
   "cell_type": "markdown",
   "id": "2f5a7de1",
   "metadata": {
    "scrolled": false
   },
   "source": [
    "---\n",
    "\n",
    "### Alternative Implementation\n",
    "\n",
    "Although BFS is still used here, I feel that this is not the best solution to the maze problem, as in this implementation, BFS is applied to ALL the possible corner visiting sequences and the best path is selected.\n",
    "\n",
    "<br/>"
   ]
  },
  {
   "cell_type": "code",
   "execution_count": 2,
   "id": "aee21667",
   "metadata": {},
   "outputs": [
    {
     "data": {
      "image/png": "[encoded data removed]",
      "text/plain": [
       "<Figure size 300x300 with 1 Axes>"
      ]
     },
     "metadata": {},
     "output_type": "display_data"
    },
    {
     "data": {
      "image/png": "[encoded data removed]",
      "text/plain": [
       "<Figure size 300x300 with 1 Axes>"
      ]
     },
     "metadata": {},
     "output_type": "display_data"
    },
    {
     "data": {
      "image/png": "[encoded data removed]",
      "text/plain": [
       "<Figure size 300x300 with 1 Axes>"
      ]
     },
     "metadata": {},
     "output_type": "display_data"
    },
    {
     "data": {
      "image/png": "[encoded data removed]",
      "text/plain": [
       "<Figure size 300x300 with 1 Axes>"
      ]
     },
     "metadata": {},
     "output_type": "display_data"
    },
    {
     "data": {
      "text/plain": [
       "48"
      ]
     },
     "execution_count": 2,
     "metadata": {},
     "output_type": "execute_result"
    }
   ],
   "source": [
    "from math import inf\n",
    "\n",
    "\n",
    "def bfs(maze, start, end):\n",
    "    # Define the four possible directions: up, down, left, right\n",
    "    directions = [(-1, 0), (1, 0), (0, -1), (0, 1)]\n",
    "    \n",
    "    # Initialize a queue for BFS\n",
    "    queue = deque([(start, [start])])\n",
    "    \n",
    "    # Initialize a set to keep track of visited cells\n",
    "    visited = set()\n",
    "    \n",
    "    # Mark the start cell as visited\n",
    "    visited.add(start)\n",
    "    \n",
    "    # Perform BFS\n",
    "    while queue:\n",
    "        current_cell, path = queue.popleft()\n",
    "        if current_cell == end:\n",
    "            return path\n",
    "        \n",
    "        for direction in directions:\n",
    "            new_cell = (current_cell[0] + direction[0], current_cell[1] + direction[1])\n",
    "            if 0 <= new_cell[0] < len(maze) and 0 <= new_cell[1] < len(maze[0]) and maze[new_cell[0]][new_cell[1]] != 1 and new_cell not in visited:\n",
    "                queue.append((new_cell, path + [new_cell]))\n",
    "                visited.add(new_cell)\n",
    "    \n",
    "    return None\n",
    "\n",
    "\n",
    "def bfs_alt(maze, start):\n",
    "    \n",
    "    corners = [(1, 1), (1, len(maze[0]) - 2), (len(maze) - 2, 1), (len(maze) - 2, len(maze[0]) - 2)]\n",
    "    \n",
    "    # Generate all possible corner visiting sequences\n",
    "    seq = list(permutations(corners))\n",
    "    \n",
    "    # Assume first path found is optimal\n",
    "    min_path = []\n",
    "    min_path.append(bfs(maze, start, seq[0][0]))\n",
    "    for i in range(3):\n",
    "        min_path.append(bfs(maze, seq[0][i], seq[0][i+1]))\n",
    "    min_cost = sum([len(segment) for segment in min_path])\n",
    "    \n",
    "    # Find the path with minimum cost\n",
    "    for i in range(1, len(seq)):\n",
    "        path = []\n",
    "        path.append(bfs(maze, start, seq[i][0]))\n",
    "        for j in range(3):\n",
    "            path.append(bfs(maze, seq[i][j], seq[i][j+1]))\n",
    "        length = sum([len(segment) for segment in path])\n",
    "        if length < min_cost:\n",
    "            min_path = path\n",
    "            min_cost = length\n",
    "            \n",
    "    return min_path\n",
    "\n",
    "\n",
    "def permutations(nums):\n",
    "    if len(nums) == 1:\n",
    "        return [nums]\n",
    "    \n",
    "    result = []\n",
    "    for i in range(len(nums)):\n",
    "        current_num = nums[i]\n",
    "        remaining_nums = nums[:i] + nums[i+1:]\n",
    "        sub_permutations = permutations(remaining_nums)\n",
    "        for perm in sub_permutations:\n",
    "            result.append([current_num] + perm)\n",
    "    \n",
    "    return result\n",
    "\n",
    "\n",
    "        \n",
    "# Breadth-first search\n",
    "start = (5, 6)\n",
    "path = bfs_alt(sample_maze, start)\n",
    "show_solution(sample_maze, start, path)\n",
    "count_steps(path)"
   ]
  },
  {
   "cell_type": "code",
   "execution_count": null,
   "id": "f9e8b306",
   "metadata": {},
   "outputs": [],
   "source": []
  }
 ],
 "metadata": {
  "kernelspec": {
   "display_name": "Python 3 (ipykernel)",
   "language": "python",
   "name": "python3"
  },
  "language_info": {
   "codemirror_mode": {
    "name": "ipython",
    "version": 3
   },
   "file_extension": ".py",
   "mimetype": "text/x-python",
   "name": "python",
   "nbconvert_exporter": "python",
   "pygments_lexer": "ipython3",
   "version": "3.11.5"
  }
 },
 "nbformat": 4,
 "nbformat_minor": 5
}
