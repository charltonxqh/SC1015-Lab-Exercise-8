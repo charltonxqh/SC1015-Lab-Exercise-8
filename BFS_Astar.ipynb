{
 "cells": [
  {
   "cell_type": "code",
   "execution_count": 1,
   "id": "f5e3ef52",
   "metadata": {},
   "outputs": [
    {
     "data": {
      "image/png": "[encoded data removed]",
      "text/plain": [
       "<Figure size 640x480 with 1 Axes>"
      ]
     },
     "metadata": {},
     "output_type": "display_data"
    },
    {
     "data": {
      "image/png": "[encoded data removed]",
      "text/plain": [
       "<Figure size 640x480 with 1 Axes>"
      ]
     },
     "metadata": {},
     "output_type": "display_data"
    }
   ],
   "source": [
    "# Import module\n",
    "from maze_visualizer import *\n",
    "\n",
    "# Visualize a blank maze\n",
    "show_maze(sample_maze)\n",
    "\n",
    "# List storing valid path squares \n",
    "path = [[6, 6], [6, 5], [6, 4], [5, 4], [5, 3], [5, 2], [5, 1], [4, 1], [3, 1], [2, 1]]\n",
    "\n",
    "# Visualize the searched maze\n",
    "show_maze(sample_maze, start=(5, 6), path=path)"
   ]
  },
  {
   "cell_type": "code",
   "execution_count": 2,
   "id": "18504940",
   "metadata": {},
   "outputs": [
    {
     "data": {
      "image/png": "[encoded data removed]",
      "text/plain": [
       "<Figure size 640x480 with 1 Axes>"
      ]
     },
     "metadata": {},
     "output_type": "display_data"
    },
    {
     "data": {
      "image/png": "[encoded data removed]",
      "text/plain": [
       "<Figure size 640x480 with 1 Axes>"
      ]
     },
     "metadata": {},
     "output_type": "display_data"
    },
    {
     "data": {
      "image/png": "[encoded data removed]",
      "text/plain": [
       "<Figure size 640x480 with 1 Axes>"
      ]
     },
     "metadata": {},
     "output_type": "display_data"
    },
    {
     "data": {
      "image/png": "[encoded data removed]",
      "text/plain": [
       "<Figure size 640x480 with 1 Axes>"
      ]
     },
     "metadata": {},
     "output_type": "display_data"
    }
   ],
   "source": [
    "from collections import deque\n",
    "from math import inf\n",
    "\n",
    "\n",
    "def permutations(nums):\n",
    "    if len(nums) == 1:\n",
    "        return [nums]\n",
    "    \n",
    "    result = []\n",
    "    for i in range(len(nums)):\n",
    "        current_num = nums[i]\n",
    "        remaining_nums = nums[:i] + nums[i+1:]\n",
    "        sub_permutations = permutations(remaining_nums)\n",
    "        for perm in sub_permutations:\n",
    "            result.append([current_num] + perm)\n",
    "    \n",
    "    return result\n",
    "\n",
    "\n",
    "def bfs(maze, start, end):\n",
    "    # Define the four possible directions: up, down, left, right\n",
    "    directions = [(-1, 0), (1, 0), (0, -1), (0, 1)]\n",
    "    \n",
    "    # Initialize a queue for BFS\n",
    "    queue = deque([(start, [start])])\n",
    "    \n",
    "    # Initialize a set to keep track of visited cells\n",
    "    visited = set()\n",
    "    \n",
    "    # Mark the start cell as visited\n",
    "    visited.add(start)\n",
    "    \n",
    "    # Perform BFS\n",
    "    while queue:\n",
    "        current_cell, path = queue.popleft()\n",
    "        if current_cell == end:\n",
    "            return path\n",
    "        \n",
    "        for direction in directions:\n",
    "            new_cell = (current_cell[0] + direction[0], current_cell[1] + direction[1])\n",
    "            if 0 <= new_cell[0] < len(maze) and 0 <= new_cell[1] < len(maze[0]) and maze[new_cell[0]][new_cell[1]] != 1 and new_cell not in visited:\n",
    "                queue.append((new_cell, path + [new_cell]))\n",
    "                visited.add(new_cell)\n",
    "    \n",
    "    return None\n",
    "\n",
    "\n",
    "def bfs_full(maze, start):\n",
    "    \n",
    "    corners = [(1, 1), (1, len(maze[0]) - 2), (len(maze) - 2, 1), (len(maze) - 2, len(maze[0]) - 2)]\n",
    "    \n",
    "    # Generate all possible corner visiting sequences\n",
    "    seq = list(permutations(corners))\n",
    "    \n",
    "    # Assume first path found is optimal\n",
    "    min_path = []\n",
    "    min_path.append(bfs(maze, start, seq[0][0]))\n",
    "    for i in range(3):\n",
    "        min_path.append(bfs(maze, seq[0][i], seq[0][i+1]))\n",
    "    min_cost = sum([len(segment) for segment in min_path])\n",
    "    \n",
    "    # Find the path with minimum cost\n",
    "    for i in range(1, len(seq)):\n",
    "        path = []\n",
    "        path.append(bfs(maze, start, seq[i][0]))\n",
    "        for j in range(3):\n",
    "            path.append(bfs(maze, seq[i][j], seq[i][j+1]))\n",
    "        length = sum([len(segment) for segment in path])\n",
    "        if length < min_cost:\n",
    "            min_path = path\n",
    "            min_cost = length\n",
    "            \n",
    "    return min_path\n",
    "\n",
    "\n",
    "def show_solution(maze, start, path):\n",
    "    for segment in path:\n",
    "        show_maze(maze, start, segment)\n",
    "    \n",
    "        \n",
    "# Breadth-first search\n",
    "start = (1, 3)\n",
    "show_solution(sample_maze, start, bfs_full(sample_maze, start))"
   ]
  },
  {
   "cell_type": "code",
   "execution_count": null,
   "id": "9665f672",
   "metadata": {},
   "outputs": [],
   "source": []
  },
  {
   "cell_type": "code",
   "execution_count": 8,
   "id": "26656840",
   "metadata": {},
   "outputs": [
    {
     "name": "stdout",
     "output_type": "stream",
     "text": [
      "[(1, 3), (1, 4), (1, 5), (1, 6), (2, 6), (3, 6), (3, 7), (3, 8), (3, 9), (4, 9), (5, 9), (6, 9), (7, 9), (8, 9), (9, 9)]\n"
     ]
    }
   ],
   "source": [
    "import heapq\n",
    "\n",
    "def heuristic_cost_estimate(start, goal):\n",
    "    # Manhattan distance heuristic\n",
    "    return abs(goal[0] - start[0]) + abs(goal[1] - start[1])\n",
    "\n",
    "def reconstruct_path(came_from, current):\n",
    "    total_path = [current]\n",
    "    while current in came_from:\n",
    "        current = came_from[current]\n",
    "        total_path.insert(0, current)\n",
    "    return total_path\n",
    "\n",
    "def a_star_search(grid, start, goal):\n",
    "    open_set = []\n",
    "    heapq.heappush(open_set, (0, start))  # (f_score, node)\n",
    "    came_from = {}\n",
    "    g_score = {start: 0}\n",
    "    f_score = {start: heuristic_cost_estimate(start, goal)}\n",
    "\n",
    "    while open_set:\n",
    "        current_f, current = heapq.heappop(open_set)\n",
    "        if current == goal:\n",
    "            return reconstruct_path(came_from, current)\n",
    "\n",
    "        for neighbor in neighbors(grid, current):\n",
    "            tentative_g_score = g_score[current] + grid[neighbor[0]][neighbor[1]]\n",
    "            if neighbor not in g_score or tentative_g_score < g_score[neighbor]:\n",
    "                came_from[neighbor] = current\n",
    "                g_score[neighbor] = tentative_g_score\n",
    "                f_score[neighbor] = tentative_g_score + heuristic_cost_estimate(neighbor, goal)\n",
    "                heapq.heappush(open_set, (f_score[neighbor], neighbor))\n",
    "\n",
    "    return None  # No path found\n",
    "\n",
    "def neighbors(grid, cell):\n",
    "    neighbors = []\n",
    "    for dx, dy in [(1, 0), (-1, 0), (0, 1), (0, -1)]:\n",
    "        x, y = cell[0] + dx, cell[1] + dy\n",
    "        if 0 <= x < len(grid) and 0 <= y < len(grid[0]):\n",
    "            neighbors.append((x, y))\n",
    "    return neighbors\n",
    "\n",
    "# Example usage\n",
    "start = (1, 3)\n",
    "goal = (9, 9)\n",
    "path = a_star_search(sample_maze, start, goal)\n",
    "\n",
    "show_maze(sample_maze, start, path)"
   ]
  },
  {
   "cell_type": "code",
   "execution_count": 12,
   "id": "ae9cd040",
   "metadata": {},
   "outputs": [
    {
     "data": {
      "image/png": "[encoded data removed]",
      "text/plain": [
       "<Figure size 640x480 with 1 Axes>"
      ]
     },
     "metadata": {},
     "output_type": "display_data"
    },
    {
     "name": "stdout",
     "output_type": "stream",
     "text": [
      "[(1, 3), (1, 4), (1, 5), (1, 6), (2, 6), (3, 6), (3, 5), (3, 4), (4, 4), (5, 4), (6, 4), (7, 4), (8, 4), (9, 4), (10, 4), (10, 5), (10, 6), (10, 7), (10, 8), (10, 9), (10, 10)]\n"
     ]
    }
   ],
   "source": [
    "import heapq\n",
    "\n",
    "def heuristic_cost_estimate(start, goal):\n",
    "    # Manhattan distance heuristic\n",
    "    return abs(goal[0] - start[0]) + abs(goal[1] - start[1])\n",
    "\n",
    "def reconstruct_path(came_from, current):\n",
    "    total_path = [current]\n",
    "    while current in came_from:\n",
    "        current = came_from[current]\n",
    "        total_path.insert(0, current)\n",
    "    return total_path\n",
    "\n",
    "def a_star_search(grid, start, goal):\n",
    "    open_set = []\n",
    "    heapq.heappush(open_set, (0, start))  # (f_score, node)\n",
    "    came_from = {}\n",
    "    g_score = {start: 0}\n",
    "    f_score = {start: heuristic_cost_estimate(start, goal)}\n",
    "\n",
    "    while open_set:\n",
    "        current_f, current = heapq.heappop(open_set)\n",
    "        if current == goal:\n",
    "            return reconstruct_path(came_from, current)\n",
    "\n",
    "        for neighbor in neighbors(grid, current):\n",
    "            tentative_g_score = g_score[current] + grid[neighbor[0]][neighbor[1]]\n",
    "            if neighbor not in g_score or tentative_g_score < g_score[neighbor]:\n",
    "                came_from[neighbor] = current\n",
    "                g_score[neighbor] = tentative_g_score\n",
    "                f_score[neighbor] = tentative_g_score + heuristic_cost_estimate(neighbor, goal)\n",
    "                heapq.heappush(open_set, (f_score[neighbor], neighbor))\n",
    "\n",
    "    return None  # No path found\n",
    "\n",
    "def neighbors(grid, cell):\n",
    "    neighbors = []\n",
    "    for dx, dy in [(1, 0), (-1, 0), (0, 1), (0, -1)]:\n",
    "        x, y = cell[0] + dx, cell[1] + dy\n",
    "        if 0 <= x < len(grid) and 0 <= y < len(grid[0]) and grid[x][y] != 1:\n",
    "            neighbors.append((x, y))\n",
    "    return neighbors\n",
    "\n",
    "# Example usage\n",
    "start = (1, 3)\n",
    "goal = (10, 10)\n",
    "path = a_star_search(sample_maze, start, goal)\n",
    "\n",
    "show_maze(sample_maze, start, path)\n",
    "print(path)\n"
   ]
  },
  {
   "cell_type": "code",
   "execution_count": null,
   "id": "ad5e3d29",
   "metadata": {},
   "outputs": [],
   "source": []
  }
 ],
 "metadata": {
  "kernelspec": {
   "display_name": "Python 3 (ipykernel)",
   "language": "python",
   "name": "python3"
  },
  "language_info": {
   "codemirror_mode": {
    "name": "ipython",
    "version": 3
   },
   "file_extension": ".py",
   "mimetype": "text/x-python",
   "name": "python",
   "nbconvert_exporter": "python",
   "pygments_lexer": "ipython3",
   "version": "3.11.5"
  }
 },
 "nbformat": 4,
 "nbformat_minor": 5
}
