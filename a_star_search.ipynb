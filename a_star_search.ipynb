{
 "cells": [
  {
   "cell_type": "markdown",
   "id": "f3fec2b1",
   "metadata": {},
   "source": [
    "## A* Search\n",
    "\n",
    "---\n",
    "\n",
    "### Overview\n",
    "\n",
    "This notebook contains an implementation of the A* search algorithm to find a path through a maze that visits all four corners. The maze is represented as a grid, where certain cells are walls that cannot be passed through. The algorithm uses a heuristic function to estimate the cost from a cell to the closest unvisited corner, guiding the search towards the corners. The implementation includes functions for calculating the heuristic cost estimate, reconstructing the path, finding neighboring cells, and performing the A* search.\n",
    "\n",
    "\n",
    "### Heuristic function\n",
    "\n",
    "In this implementation, the heuristic function calculates the Manhattan distance from a cell to the closest unvisited corner. The algorithm maintains an open set of cells to explore, prioritizing cells with lower estimated total cost (`g_score + h_score`), where `g_score` is the cost from the start cell to the current cell and `h_score` is the heuristic cost estimate from the current cell to the goal.\n",
    "\n",
    "\n",
    "### Search Algorithm\n",
    "\n",
    "At each step, the algorithm selects the cell with the lowest total cost from the open set, explores its neighbors, and updates their `g_scores` and `f_scores` if a shorter path is found. The search continues until the goal (a corner cell) is reached. The algorithm then backtracks through the `came_from` dictionary to reconstruct the optimal path from the start cell to the goal cell.\n",
    "\n",
    "The algorithm repeats this process for each unvisited corner, ensuring that the path passes through all four corners. The visualization module `maze_visualizer` is used to display the maze and the path found by the algorithm.\n",
    "\n",
    "<br/>\n",
    "\n",
    "---"
   ]
  },
  {
   "cell_type": "code",
   "execution_count": 1,
   "id": "3fb47bbb",
   "metadata": {},
   "outputs": [
    {
     "data": {
      "image/png": "[encoded data removed]",
      "text/plain": [
       "<Figure size 300x300 with 1 Axes>"
      ]
     },
     "metadata": {},
     "output_type": "display_data"
    },
    {
     "data": {
      "image/png": "[encoded data removed]",
      "text/plain": [
       "<Figure size 300x300 with 1 Axes>"
      ]
     },
     "metadata": {},
     "output_type": "display_data"
    },
    {
     "data": {
      "image/png": "[encoded data removed]",
      "text/plain": [
       "<Figure size 300x300 with 1 Axes>"
      ]
     },
     "metadata": {},
     "output_type": "display_data"
    },
    {
     "data": {
      "image/png": "[encoded data removed]",
      "text/plain": [
       "<Figure size 300x300 with 1 Axes>"
      ]
     },
     "metadata": {},
     "output_type": "display_data"
    },
    {
     "data": {
      "text/plain": [
       "61"
      ]
     },
     "execution_count": 1,
     "metadata": {},
     "output_type": "execute_result"
    }
   ],
   "source": [
    "from maze_visualizer import *\n",
    "import heapq\n",
    "\n",
    "\n",
    "def heuristic_cost_estimate(point, corners):\n",
    "    # If corners is a single tuple, convert it to a list with one tuple\n",
    "    if isinstance(corners, tuple):\n",
    "        corners = [corners]\n",
    "        \n",
    "    # Calculate the Manhattan distance from the point to the closest unvisited corner\n",
    "    closest_corner = min(corners, key=lambda x: abs(point[0] - x[0]) + abs(point[1] - x[1]))\n",
    "    return abs(point[0] - closest_corner[0]) + abs(point[1] - closest_corner[1])\n",
    "\n",
    "\n",
    "def reconstruct_path(came_from, current):\n",
    "    total_path = [current]\n",
    "    while current in came_from:\n",
    "        current = came_from[current]\n",
    "        total_path.insert(0, current)\n",
    "    return total_path\n",
    "\n",
    "\n",
    "def a_star_search(grid, start):    \n",
    "    # Define the four corners of the maze\n",
    "    corners = [(1, 1), (1, len(grid[0])-2), (len(grid)-2, 1), (len(grid)-2, len(grid[0])-2)]\n",
    "    unvisited_corners = set(corners)\n",
    "    path = []\n",
    "\n",
    "    while unvisited_corners:\n",
    "        closest_corner = min(unvisited_corners, key=lambda x: heuristic_cost_estimate(start, x))\n",
    "        goal = closest_corner\n",
    "\n",
    "        open_set = []\n",
    "        heapq.heappush(open_set, (0, start))  # (f_score, node)\n",
    "        came_from = {}\n",
    "        g_score = {start: 0}\n",
    "        f_score = {start: heuristic_cost_estimate(start, goal)}\n",
    "\n",
    "        while open_set:\n",
    "            current_f, current = heapq.heappop(open_set)\n",
    "            if current == goal:\n",
    "                break\n",
    "\n",
    "            for neighbor in neighbors(grid, current):\n",
    "                tentative_g_score = g_score[current] + 1  # Assuming all movements have a cost of 1\n",
    "                if neighbor not in g_score or tentative_g_score < g_score[neighbor]:\n",
    "                    came_from[neighbor] = current\n",
    "                    g_score[neighbor] = tentative_g_score\n",
    "                    f_score[neighbor] = tentative_g_score + heuristic_cost_estimate(neighbor, goal)\n",
    "                    heapq.heappush(open_set, (f_score[neighbor], neighbor))\n",
    "\n",
    "        path.append(reconstruct_path(came_from, current))\n",
    "        start = current\n",
    "        unvisited_corners.remove(current)\n",
    "\n",
    "    return path\n",
    "\n",
    "\n",
    "def neighbors(grid, cell):\n",
    "    neighbors = []\n",
    "    for dx, dy in [(1, 0), (-1, 0), (0, 1), (0, -1)]:\n",
    "        x, y = cell[0] + dx, cell[1] + dy\n",
    "        if 0 <= x < len(grid) and 0 <= y < len(grid[0]) and grid[x][y] != 1:\n",
    "            neighbors.append((x, y))\n",
    "    return neighbors\n",
    "\n",
    "\n",
    "# A* search\n",
    "start = (5, 6)\n",
    "path = a_star_search(sample_maze, start)\n",
    "show_solution(sample_maze, start, path)\n",
    "count_steps(path)"
   ]
  },
  {
   "cell_type": "code",
   "execution_count": null,
   "id": "304c2b96",
   "metadata": {},
   "outputs": [],
   "source": []
  }
 ],
 "metadata": {
  "kernelspec": {
   "display_name": "Python 3 (ipykernel)",
   "language": "python",
   "name": "python3"
  },
  "language_info": {
   "codemirror_mode": {
    "name": "ipython",
    "version": 3
   },
   "file_extension": ".py",
   "mimetype": "text/x-python",
   "name": "python",
   "nbconvert_exporter": "python",
   "pygments_lexer": "ipython3",
   "version": "3.11.5"
  }
 },
 "nbformat": 4,
 "nbformat_minor": 5
}
