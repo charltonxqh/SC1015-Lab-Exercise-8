{
 "cells": [
  {
   "cell_type": "markdown",
   "metadata": {},
   "source": []
  },
  {
   "cell_type": "markdown",
   "metadata": {},
   "source": [
    "# Simplified Pac-Man: A Study of AI Search Algorithms\n",
    "\n",
    "#### SC1015 Lab Exercise 8 : FCSF\n",
    "\n",
    "#### Contributors\n",
    "- **Charlton Siaw Qi Hen** *(Depth-First Search, Depth-Limited Search, Iterative Deepening Search (IDS))*\n",
    "- **Chong Jia Chern** *(Breadth-First Search + A\\* Search)*\n",
    "- **Tan Uei Horng** *(UCS + Greedy Search)*\n",
    "\n",
    "---\n",
    "\n",
    "In this notebook, we embark on a journey to explore the fascinating world of search algorithms within the realm of AI, using the classic and well-loved game of Pac-Man as our case study. Our aim is to understand and implement a variety of search strategies to navigate the Pac-Man through a maze. This simplified version of the game provides a perfect setting to delve into both uninformed (blind) and informed (heuristic-based) search algorithms, crucial in the field of Artificial Intelligence.\n",
    "\n",
    "The algorithms we will explore include:\n",
    "\n",
    "### Uninformed Search Algorithms:\n",
    "- **Breadth-First Search (BFS)**: Known for its completeness and simplicity, BFS explores the maze level by level, ensuring no spot is missed.\n",
    "- **Depth-First Search (DFS)**: This algorithm takes a deeper dive into the maze, exploring paths to their fullest before backtracking, often leading to more efficient solutions in certain scenarios.\n",
    "- **Depth-Limited Search (DLS)**: A variant of DFS, DLS adds a depth limitation to prevent wandering infinitely in loops.\n",
    "- **Iterative Deepening Search (IDS)**: Combining the virtues of BFS's completeness and DFS's space efficiency, IDS progressively deepens the search.\n",
    "- **Uniform Cost Search (UCS)**: Prioritizing paths based on their cumulative cost, UCS is ideal for finding the least costly path in terms of distance or other metrics.\n",
    "\n",
    "### Informed Search Algorithms:\n",
    "- **Greedy Best-First Search**: This algorithm uses a heuristic to determine the most promising path to the goal at each step. It prioritizes nodes based on their estimated cost from the goal, making it efficient in terms of reaching the goal quickly. However, it focuses solely on the heuristic's guidance, which may not always lead to the shortest or most optimal path, potentially lacking completeness in some scenarios.\n",
    "- **A\\* Search**: A sophisticated algorithm that optimally combines the costs from the start node with heuristic estimates to the goal. A* Search is both complete and optimal, guaranteed to find the shortest path efficiently when a suitable heuristic is used.\n",
    "\n",
    "Each algorithm has its unique characteristics and is suitable for different types of mazes and objectives. Through this exploration, we will not only understand these algorithms theoretically but also see them in action as we program Pac-Man to navigate the maze, find the dots, and avoid ghosts.\n",
    "\n",
    "As we progress, we'll discuss the implementation details, strengths, and limitations of each algorithm, providing a comprehensive understanding of AI's approach to problem-solving in games and beyond.\n",
    "\n",
    "So, let's gear up to dive into the code, unravel these algorithms, and bring Pac-Man to life in this AI-powered maze adventure!\n",
    "\n",
    "---\n"
   ]
  },
  {
   "cell_type": "markdown",
   "metadata": {},
   "source": [
    "## Introduction to Our Simplified Pac-Man Game\n",
    "\n",
    "Dive into the world of AI pathfinding with our simplified version of the iconic ```Pac-Man``` game. Unlike the traditional game (https://en.wikipedia.org/wiki/Pac-Man), this simplified version focuses purely on strategic movement and pathfinding, essential components in the field of Artificial Intelligence. In this game, our Pac-Man has to navigate through a maze to eat all four foods placed in each corner, but **without** the challenge of evading ghosts. This setup provides an excellent scenario for understanding and applying different search algorithms.\n",
    "\n",
    "### Game Setup and Visualization:\n",
    "\n",
    "- **Maze Layout**: The game is played on a grid-based maze, similar to the classic Pac-Man, but with a twist. Here, the maze consists of walkable paths and walls.\n",
    "- **Colors in the Maze**:\n",
    "  - **Red**: Represents the food items placed in each corner of the maze.\n",
    "  - **Yellow**: Denotes the starting position of Pac-Man.\n",
    "  - **Black**: Indicates the walls or barriers in the maze that Pac-Man cannot pass through.\n",
    "  - **White**: Signifies walkable paths where Pac-Man can move.\n",
    "  - **Blue**: Shows the path taken by Pac-Man to reach the food.\n",
    "\n",
    "### Objectives:\n",
    "\n",
    "1. **Pathfinding Challenge**: The primary goal is to find the shortest path for Pac-Man to eat all four foods placed in the maze's corners. \n",
    "2. **Search Algorithms**: To achieve this, we will employ various search algorithms, both uninformed and informed, each offering a unique approach to solving the maze.\n",
    "3. **Visualization**: After applying each algorithm, the resultant path taken by Pac-Man will be visualized on the maze. This will not only showcase the algorithm's effectiveness but also provide visual feedback on the strategy used by Pac-Man.\n",
    "\n",
    "---\n"
   ]
  },
  {
   "cell_type": "markdown",
   "metadata": {},
   "source": [
    "### Essential Libraries\n",
    "\n",
    "Let's begin by importing the essential Python libraries."
   ]
  },
  {
   "cell_type": "code",
   "execution_count": 50,
   "metadata": {},
   "outputs": [],
   "source": [
    "from collections import deque\n",
    "import matplotlib.pyplot as plt\n",
    "from matplotlib.colors import ListedColormap\n",
    "from copy import deepcopy\n",
    "from math import inf\n",
    "import heapq"
   ]
  },
  {
   "cell_type": "markdown",
   "metadata": {},
   "source": [
    "### Visualize the Maze\n",
    "\n",
    "Setting up our simplified Pac-Man game environment."
   ]
  },
  {
   "cell_type": "code",
   "execution_count": 51,
   "metadata": {},
   "outputs": [],
   "source": [
    "'''\n",
    "USAGE EXAMPLE\n",
    "\n",
    "# Visualize a blank maze\n",
    "show_maze(sample_maze)\n",
    "\n",
    "# Visualize a maze with Pac-Man at (5, 6)\n",
    "show_maze(sample_maze, (5, 6))\n",
    "\n",
    "# List storing valid cell coordinates\n",
    "path = [[6, 6], [6, 5], [6, 4], [5, 4], [5, 3], [5, 2], [5, 1], [4, 1], [3, 1], [2, 1]]\n",
    "\n",
    "# Visualize the searched maze\n",
    "show_maze(sample_maze, (5, 6), path)\n",
    "\n",
    "'''\n",
    "\n",
    "\n",
    "# Edit this for your own maze design\n",
    "blank_maze = [[1, 1, 1, 1, 1, 1, 1, 1, 1, 1, 1, 1],\n",
    "              [1, 0, 0, 0, 0, 0, 0, 0, 0, 0, 0, 1],\n",
    "              [1, 0, 0, 0, 0, 0, 0, 0, 0, 0, 0, 1],\n",
    "              [1, 0, 0, 0, 0, 0, 0, 0, 0, 0, 0, 1],\n",
    "              [1, 0, 0, 0, 0, 0, 0, 0, 0, 0, 0, 1],\n",
    "              [1, 0, 0, 0, 0, 0, 0, 0, 0, 0, 0, 1],\n",
    "              [1, 0, 0, 0, 0, 0, 0, 0, 0, 0, 0, 1],\n",
    "              [1, 0, 0, 0, 0, 0, 0, 0, 0, 0, 0, 1],\n",
    "              [1, 0, 0, 0, 0, 0, 0, 0, 0, 0, 0, 1],\n",
    "              [1, 0, 0, 0, 0, 0, 0, 0, 0, 0, 0, 1],\n",
    "              [1, 0, 0, 0, 0, 0, 0, 0, 0, 0, 0, 1],\n",
    "              [1, 1, 1, 1, 1, 1, 1, 1, 1, 1, 1, 1]]\n",
    "\n",
    "\n",
    "# For testing\n",
    "sample_maze = [[1, 1, 1, 1, 1, 1, 1, 1, 1, 1, 1, 1],\n",
    "               [1, 0, 1, 0, 0, 0, 0, 1, 0, 0, 0, 1],\n",
    "               [1, 0, 1, 1, 1, 1, 0, 1, 1, 0, 1, 1],\n",
    "               [1, 0, 1, 0, 0, 0, 0, 1, 0, 0, 0, 1],\n",
    "               [1, 0, 1, 1, 0, 1, 1, 1, 1, 1, 0, 1],\n",
    "               [1, 0, 0, 0, 0, 1, 0, 1, 0, 0, 0, 1],\n",
    "               [1, 1, 0, 1, 0, 0, 0, 1, 0, 1, 0, 1],\n",
    "               [1, 0, 0, 1, 0, 1, 1, 1, 0, 1, 0, 1],\n",
    "               [1, 0, 1, 1, 0, 1, 0, 0, 0, 1, 1, 1],\n",
    "               [1, 0, 0, 0, 0, 1, 1, 1, 0, 1, 0, 1],\n",
    "               [1, 0, 1, 0, 0, 0, 0, 0, 0, 0, 0, 1],\n",
    "               [1, 1, 1, 1, 1, 1, 1, 1, 1, 1, 1, 1]]\n",
    "\n",
    "\n",
    "    \n",
    "# Visualises the maze corresponding to grid passed in\n",
    "def show_maze(grid, start=None, path=None, show_corners=[1, 1, 1, 1], CELL_SIZE=3):\n",
    "    # Make a copy of the maze\n",
    "    grid_copy = deepcopy(grid)\n",
    "    \n",
    "    color_map = {\n",
    "        \"white\": 0,\n",
    "        \"black\": 1,\n",
    "        \"yellow\": 2,\n",
    "        \"blue\": 3,\n",
    "        \"red\": 4\n",
    "    }\n",
    "    \n",
    "    # Input validation\n",
    "    # if not valid_maze(grid):\n",
    "    #    raise ValueError(\"Maze is incomplete! Must have all four colors\")\n",
    "    \n",
    "    # Add path to the maze\n",
    "    if path:\n",
    "        grid_copy = add_path(grid_copy, path)\n",
    "    \n",
    "    # Add color for four corners\n",
    "    corners = [(1, 1), (1, len(grid[0]) - 2), (len(grid) - 2, 1), (len(grid) - 2, len(grid[0]) - 2)]\n",
    "    for i in range(4):\n",
    "        if show_corners[i]:\n",
    "            grid_copy[corners[i][0]][corners[i][1]] = color_map[\"red\"]\n",
    "        \n",
    "    # Add Pac-Man to the maze\n",
    "    if start:\n",
    "        grid_copy[start[0]][start[1]] = color_map[\"yellow\"]\n",
    "    \n",
    "    # Define the colors for specific values\n",
    "    colors = color_map.keys()\n",
    "    \n",
    "    # Create a colormap with distinct colors for specific values\n",
    "    cmap = ListedColormap(colors)\n",
    "\n",
    "    # Create a figure and axis\n",
    "    fig, ax = plt.subplots(figsize=(CELL_SIZE, CELL_SIZE))\n",
    "\n",
    "    # Draw the grid with the custom colormap\n",
    "    ax.imshow(grid_copy, cmap=cmap, interpolation='nearest')\n",
    "\n",
    "    # Hide the axes labels\n",
    "    ax.axis('off')\n",
    "\n",
    "    # Display the plot\n",
    "    plt.show()\n",
    "\n",
    "\n",
    "# Visualises the complete solution found by a search\n",
    "# Works by displaying each segment of the solution path with a copy of the maze\n",
    "def show_solution(maze, start, path):\n",
    "    corners = [(1, 1), (1, len(maze[0]) - 2), (len(maze) - 2, 1), (len(maze) - 2, len(maze[0]) - 2)]\n",
    "    label = [1, 1, 1, 1]\n",
    "    for segment in path:\n",
    "        show_maze(maze, segment[0], segment, label)\n",
    "        label[corners.index(segment[-1])] = 0\n",
    "\n",
    "\n",
    "    \n",
    "# Helper function\n",
    "# Accepts a list of coordinates of the path squares\n",
    "# Checks if all path squares are valid before adding them to the maze grid\n",
    "def add_path(grid, path):\n",
    "    for coords in range(len(path)):\n",
    "        x, y = path[coords]\n",
    "        if grid[x][y] == 1:\n",
    "            raise ValueError(f\"Invalid path! Failed to add ({x}, {y})\")\n",
    "        grid[x][y] = 3\n",
    "    \n",
    "    return grid\n",
    "        \n",
    "\n",
    "# Determines maze validity \n",
    "def valid_maze(grid):\n",
    "    yellow = red = False\n",
    "    \n",
    "    for i in range(len(grid)):\n",
    "        for j in range(len(grid[i])):\n",
    "            if grid[i][j] == 2:\n",
    "                yellow = True\n",
    "            elif grid[i][j] == 4:\n",
    "                red = True\n",
    "    \n",
    "    return yellow and red\n",
    "\n",
    "\n",
    "# Count the number of steps\n",
    "def count_steps(path):\n",
    "    count = 0\n",
    "    for segment in path:\n",
    "        count += len(segment)\n",
    "\n",
    "    return (count - 4)"
   ]
  },
  {
   "cell_type": "code",
   "execution_count": 52,
   "metadata": {},
   "outputs": [
    {
     "data": {
      "image/png": "[encoded data removed]",
      "text/plain": [
       "<Figure size 300x300 with 1 Axes>"
      ]
     },
     "metadata": {},
     "output_type": "display_data"
    }
   ],
   "source": [
    "show_maze(sample_maze)"
   ]
  },
  {
   "cell_type": "markdown",
   "metadata": {},
   "source": [
    "---\n",
    "\n",
    "## Breadth-first Search (BFS)\n",
    "\n",
    "This algorithm iterates through the maze using a queue, expanding to neighboring cells until it reaches each corner. If a corner is encountered, it is removed from the list of remaining corners to visit. The function returns a list of segments, where each segment represents a path from the starting point to one of the corners. Finally, the `show_solution` function visualizes the maze and the complete path that passes through all four corners.\n",
    "\n",
    "<br/>"
   ]
  },
  {
   "cell_type": "code",
   "execution_count": 53,
   "metadata": {},
   "outputs": [
    {
     "data": {
      "image/png": "[encoded data removed]",
      "text/plain": [
       "<Figure size 300x300 with 1 Axes>"
      ]
     },
     "metadata": {},
     "output_type": "display_data"
    },
    {
     "data": {
      "image/png": "[encoded data removed]",
      "text/plain": [
       "<Figure size 300x300 with 1 Axes>"
      ]
     },
     "metadata": {},
     "output_type": "display_data"
    },
    {
     "data": {
      "image/png": "[encoded data removed]",
      "text/plain": [
       "<Figure size 300x300 with 1 Axes>"
      ]
     },
     "metadata": {},
     "output_type": "display_data"
    },
    {
     "data": {
      "image/png": "[encoded data removed]",
      "text/plain": [
       "<Figure size 300x300 with 1 Axes>"
      ]
     },
     "metadata": {},
     "output_type": "display_data"
    }
   ],
   "source": [
    "def bfs(maze, start):\n",
    "    corners = [(1, 1), (1, len(maze[0]) - 2), (len(maze) - 2, 1), (len(maze) - 2, len(maze[0]) - 2)]\n",
    "    \n",
    "    # Record segments of complete path\n",
    "    path_full = []\n",
    "    \n",
    "    # Define the four possible directions: up, down, left, right\n",
    "    directions = [(-1, 0), (1, 0), (0, -1), (0, 1)]\n",
    "    \n",
    "    while len(corners):    \n",
    "        # Initialize a queue for BFS\n",
    "        queue = deque([(start, [start])])\n",
    "\n",
    "        # Initialize a set to keep track of visited cells\n",
    "        visited = set()\n",
    "\n",
    "        # Mark the start cell as visited\n",
    "        visited.add(start)\n",
    "\n",
    "        # Perform BFS\n",
    "        while queue:\n",
    "            current_cell, path = queue.popleft()\n",
    "\n",
    "            if current_cell in corners:\n",
    "                path_full.append(path)\n",
    "                corners.remove(current_cell)\n",
    "                start = current_cell\n",
    "                break\n",
    "\n",
    "            for direction in directions:\n",
    "                new_cell = (current_cell[0] + direction[0], current_cell[1] + direction[1])\n",
    "                if 0 <= new_cell[0] < len(maze) and 0 <= new_cell[1] < len(maze[0]) and maze[new_cell[0]][new_cell[1]] != 1 and new_cell not in visited:\n",
    "                    queue.append((new_cell, path + [new_cell]))\n",
    "                    visited.add(new_cell)\n",
    "    \n",
    "    \n",
    "    return path_full\n",
    "\n",
    "\n",
    "\n",
    "# Breadth-first search\n",
    "start = (5, 6)\n",
    "bfs_path = bfs(sample_maze, start)\n",
    "show_solution(sample_maze, start, bfs_path)"
   ]
  },
  {
   "cell_type": "markdown",
   "metadata": {},
   "source": [
    "### Efficiency of the Path"
   ]
  },
  {
   "cell_type": "markdown",
   "metadata": {},
   "source": [
    "Now that we have applied the `Breadth First Search` algorithm to find a path for Pac-Man, let's evaluate the efficiency of the path. We will count the number of steps Pac-Man must take to traverse the path provided by the algorithm. This count helps us understand the practical implications of each algorithm's strategy and efficiency.\n"
   ]
  },
  {
   "cell_type": "code",
   "execution_count": 54,
   "metadata": {},
   "outputs": [
    {
     "name": "stdout",
     "output_type": "stream",
     "text": [
      "The number of steps taken by Pac-Man to complete the path is: 54\n"
     ]
    }
   ],
   "source": [
    "print(f\"The number of steps taken by Pac-Man to complete the path is: {count_steps(bfs_path)}\")"
   ]
  },
  {
   "cell_type": "markdown",
   "metadata": {},
   "source": [
    "---\n",
    "\n",
    "### Alternative Implementation\n",
    "\n",
    "Although BFS is still used here, we feel that this is not the best solution to the maze problem, as in this implementation, BFS is applied to ALL the possible corner visiting sequences and the best path is selected.\n",
    "\n",
    "<br/>"
   ]
  },
  {
   "cell_type": "code",
   "execution_count": 55,
   "metadata": {},
   "outputs": [
    {
     "data": {
      "image/png": "[encoded data removed]",
      "text/plain": [
       "<Figure size 300x300 with 1 Axes>"
      ]
     },
     "metadata": {},
     "output_type": "display_data"
    },
    {
     "data": {
      "image/png": "[encoded data removed]",
      "text/plain": [
       "<Figure size 300x300 with 1 Axes>"
      ]
     },
     "metadata": {},
     "output_type": "display_data"
    },
    {
     "data": {
      "image/png": "[encoded data removed]",
      "text/plain": [
       "<Figure size 300x300 with 1 Axes>"
      ]
     },
     "metadata": {},
     "output_type": "display_data"
    },
    {
     "data": {
      "image/png": "[encoded data removed]",
      "text/plain": [
       "<Figure size 300x300 with 1 Axes>"
      ]
     },
     "metadata": {},
     "output_type": "display_data"
    }
   ],
   "source": [
    "def bfs(maze, start, end):\n",
    "    # Define the four possible directions: up, down, left, right\n",
    "    directions = [(-1, 0), (1, 0), (0, -1), (0, 1)]\n",
    "    \n",
    "    # Initialize a queue for BFS\n",
    "    queue = deque([(start, [start])])\n",
    "    \n",
    "    # Initialize a set to keep track of visited cells\n",
    "    visited = set()\n",
    "    \n",
    "    # Mark the start cell as visited\n",
    "    visited.add(start)\n",
    "    \n",
    "    # Perform BFS\n",
    "    while queue:\n",
    "        current_cell, path = queue.popleft()\n",
    "        if current_cell == end:\n",
    "            return path\n",
    "        \n",
    "        for direction in directions:\n",
    "            new_cell = (current_cell[0] + direction[0], current_cell[1] + direction[1])\n",
    "            if 0 <= new_cell[0] < len(maze) and 0 <= new_cell[1] < len(maze[0]) and maze[new_cell[0]][new_cell[1]] != 1 and new_cell not in visited:\n",
    "                queue.append((new_cell, path + [new_cell]))\n",
    "                visited.add(new_cell)\n",
    "    \n",
    "    return None\n",
    "\n",
    "\n",
    "def bfs_alt(maze, start):\n",
    "    \n",
    "    corners = [(1, 1), (1, len(maze[0]) - 2), (len(maze) - 2, 1), (len(maze) - 2, len(maze[0]) - 2)]\n",
    "    \n",
    "    # Generate all possible corner visiting sequences\n",
    "    seq = list(permutations(corners))\n",
    "    \n",
    "    # Assume first path found is optimal\n",
    "    min_path = []\n",
    "    min_path.append(bfs(maze, start, seq[0][0]))\n",
    "    for i in range(3):\n",
    "        min_path.append(bfs(maze, seq[0][i], seq[0][i+1]))\n",
    "    min_cost = sum([len(segment) for segment in min_path])\n",
    "    \n",
    "    # Find the path with minimum cost\n",
    "    for i in range(1, len(seq)):\n",
    "        path = []\n",
    "        path.append(bfs(maze, start, seq[i][0]))\n",
    "        for j in range(3):\n",
    "            path.append(bfs(maze, seq[i][j], seq[i][j+1]))\n",
    "        length = sum([len(segment) for segment in path])\n",
    "        if length < min_cost:\n",
    "            min_path = path\n",
    "            min_cost = length\n",
    "            \n",
    "    return min_path\n",
    "\n",
    "\n",
    "def permutations(nums):\n",
    "    if len(nums) == 1:\n",
    "        return [nums]\n",
    "    \n",
    "    result = []\n",
    "    for i in range(len(nums)):\n",
    "        current_num = nums[i]\n",
    "        remaining_nums = nums[:i] + nums[i+1:]\n",
    "        sub_permutations = permutations(remaining_nums)\n",
    "        for perm in sub_permutations:\n",
    "            result.append([current_num] + perm)\n",
    "    \n",
    "    return result\n",
    "\n",
    "\n",
    "        \n",
    "# Breadth-first search\n",
    "start = (5, 6)\n",
    "bfs_alt_path = bfs_alt(sample_maze, start)\n",
    "show_solution(sample_maze, start, bfs_alt_path)"
   ]
  },
  {
   "cell_type": "markdown",
   "metadata": {},
   "source": [
    "### Efficiency of the Path"
   ]
  },
  {
   "cell_type": "code",
   "execution_count": 56,
   "metadata": {},
   "outputs": [
    {
     "name": "stdout",
     "output_type": "stream",
     "text": [
      "The number of steps taken by Pac-Man to complete the path is: 48\n"
     ]
    }
   ],
   "source": [
    "print(f\"The number of steps taken by Pac-Man to complete the path is: {count_steps(bfs_alt_path)}\")"
   ]
  },
  {
   "cell_type": "markdown",
   "metadata": {},
   "source": [
    "---\n",
    "\n",
    "## Depth-first Search (DFS)\n",
    "\n",
    "Depth-first Search (DFS) is an algorithm that explores paths through a maze deeply before backtracking. It uses a stack to manage its operations, pushing the current path explored onto the stack and moving deeper until it reaches a dead end or the goal. In the context of our simplified Pac-Man game, the DFS algorithm is utilized to navigate through the maze, seeking out all four corners where food is located.\n",
    "\n",
    "This implementation leverages DFS to identify the shortest path from the starting point to each food item, one at a time. Upon reaching a food item, it proceeds from that corner to the next until all foods are collected. The algorithm ensures that each movement is viable, avoiding walls and revisiting previously traversed paths, thereby efficiently covering the maze.\n",
    "\n",
    "### Implementation Details\n",
    "\n",
    "- **Stack Utilization**: The stack helps in tracking the path being explored, allowing the algorithm to backtrack efficiently when no further moves are possible.\n",
    "- **Path Tracking**: As the algorithm progresses, it records the path taken. This is crucial for visualizing the route that Pac-Man takes to reach each corner.\n",
    "- **Neighbor Generation**: A helper function, `neighbors`, computes viable movements from any given cell, ensuring that Pac-Man does not collide with walls or move outside the maze boundaries.\n",
    "- **Goal-Oriented Search**: Each segment of the search terminates upon reaching a corner, and the path to that corner is recorded. After reaching one corner, the search resumes from that point to the next corner.\n",
    "\n",
    "<br/>\n"
   ]
  },
  {
   "cell_type": "code",
   "execution_count": 57,
   "metadata": {},
   "outputs": [
    {
     "data": {
      "image/png": "[encoded data removed]",
      "text/plain": [
       "<Figure size 300x300 with 1 Axes>"
      ]
     },
     "metadata": {},
     "output_type": "display_data"
    },
    {
     "data": {
      "image/png": "[encoded data removed]",
      "text/plain": [
       "<Figure size 300x300 with 1 Axes>"
      ]
     },
     "metadata": {},
     "output_type": "display_data"
    },
    {
     "data": {
      "image/png": "[encoded data removed]",
      "text/plain": [
       "<Figure size 300x300 with 1 Axes>"
      ]
     },
     "metadata": {},
     "output_type": "display_data"
    },
    {
     "data": {
      "image/png": "[encoded data removed]",
      "text/plain": [
       "<Figure size 300x300 with 1 Axes>"
      ]
     },
     "metadata": {},
     "output_type": "display_data"
    }
   ],
   "source": [
    "def dfs(maze, start, goal):\n",
    "    # Stack for DFS\n",
    "    stack = [(start, [start])]\n",
    "\n",
    "    while stack:\n",
    "        (vertex, path) = stack.pop()\n",
    "\n",
    "        # Generate neighbors for current vertex, avoiding already visited nodes in the path\n",
    "        for next in neighbors(maze, vertex):\n",
    "            if next in path:\n",
    "                continue\n",
    "\n",
    "            if next == goal:\n",
    "                # Return the path if the goal is found\n",
    "                return path + [next]\n",
    "\n",
    "            stack.append((next, path + [next]))\n",
    "\n",
    "    return None\n",
    "\n",
    "# Helper function to generate neighbors\n",
    "def neighbors(maze, current):\n",
    "    directions = [(0, 1), (1, 0), (0, -1), (-1, 0)]\n",
    "    (x, y) = current\n",
    "    result = []\n",
    "\n",
    "    for dx, dy in directions:\n",
    "        nx, ny = x + dx, y + dy\n",
    "\n",
    "        # Check if the neighbor is within the maze and not a wall\n",
    "        if 0 <= nx < len(maze) and 0 <= ny < len(maze[0]) and maze[nx][ny] != 1:\n",
    "            result.append((nx, ny))\n",
    "\n",
    "    return result\n",
    "\n",
    "def find_all_foods_dfs(maze, start, foods):\n",
    "    paths = []\n",
    "    current_position = start\n",
    "\n",
    "    for food in foods:\n",
    "        path_to_food = dfs(maze, current_position, food)\n",
    "\n",
    "        if path_to_food:\n",
    "            paths.append(path_to_food)\n",
    "            current_position = food\n",
    "\n",
    "    return paths\n",
    "\n",
    "\n",
    "# Depth-first search\n",
    "start_point = (5, 6)\n",
    "corner_foods = [(1, 1), (1, len(sample_maze[0]) - 2), (len(sample_maze) - 2, 1), (len(sample_maze) - 2, len(sample_maze[0]) - 2)]\n",
    "dfs_path = find_all_foods_dfs(sample_maze, start_point, corner_foods)\n",
    "show_solution(sample_maze, start_point, dfs_path)"
   ]
  },
  {
   "cell_type": "markdown",
   "metadata": {},
   "source": [
    "### Efficiency of the Path"
   ]
  },
  {
   "cell_type": "code",
   "execution_count": 58,
   "metadata": {},
   "outputs": [
    {
     "name": "stdout",
     "output_type": "stream",
     "text": [
      "The number of steps taken by Pac-Man to complete the path is: 93\n"
     ]
    }
   ],
   "source": [
    "print(f\"The number of steps taken by Pac-Man to complete the path is: {count_steps(dfs_path)}\")"
   ]
  },
  {
   "cell_type": "markdown",
   "metadata": {},
   "source": [
    "---\n",
    "## Depth-Limited Search (DLS)\n",
    "\n",
    "Depth-Limited Search (DLS) is a variant of the classic Depth-First Search (DFS) that adds a limit to the depth it can explore. This limitation helps prevent the search from veering off into deep or infinite paths, which is especially useful in environments where paths can potentially become very long or lead to cycles.\n",
    "\n",
    "### DFS and Its Limitations:\n",
    "\n",
    "Depth-First Search is a powerful algorithm for navigating through a space by exploring as far as possible along each branch before backtracking. However, in complex mazes or graphs, DFS can get trapped in deep cycles or overly long paths, making it inefficient for some applications.\n",
    "\n",
    "### How DLS Enhances DFS:\n",
    "\n",
    "DLS introduces a depth limit to the traditional DFS approach. This limit is a predefined threshold that stops the search from going deeper than a certain number of steps. By doing so, DLS combines the thoroughness of DFS with the practicality needed in large or complex mazes. For our Pac-Man game, DLS ensures that Pac-Man does not get lost in parts of the maze that do not lead to a corner quickly.\n",
    "\n",
    "### Implementation in the Pac-Man Game:\n",
    "\n",
    "In our simplified Pac-Man setup, where the objective is to find and eat food located at the four corners of the maze, DLS is particularly useful. It prevents Pac-Man from wandering too far from a productive path. Here's a brief look at how DLS is implemented and utilized:\n",
    "\n",
    "- **Limiting Depth**: A depth limit is set, beyond which the search will not continue. This helps in avoiding unnecessarily long paths and ensures that the search is manageable and timely.\n",
    "- **Path Tracking**: Similar to DFS, DLS tracks the path taken to reach each corner. If a path exceeds the set limit without reaching a corner, it's abandoned, and the search backtracks to explore other possibilities.\n",
    "- **Goal-Oriented Search**: Each segment of the search aims directly for the nearest corner that has not yet been visited, using the depth limit to keep the search focused and efficient.\n",
    "\n"
   ]
  },
  {
   "cell_type": "code",
   "execution_count": 59,
   "metadata": {},
   "outputs": [
    {
     "data": {
      "image/png": "[encoded data removed]",
      "text/plain": [
       "<Figure size 300x300 with 1 Axes>"
      ]
     },
     "metadata": {},
     "output_type": "display_data"
    },
    {
     "data": {
      "image/png": "[encoded data removed]",
      "text/plain": [
       "<Figure size 300x300 with 1 Axes>"
      ]
     },
     "metadata": {},
     "output_type": "display_data"
    },
    {
     "data": {
      "image/png": "[encoded data removed]",
      "text/plain": [
       "<Figure size 300x300 with 1 Axes>"
      ]
     },
     "metadata": {},
     "output_type": "display_data"
    },
    {
     "data": {
      "image/png": "[encoded data removed]",
      "text/plain": [
       "<Figure size 300x300 with 1 Axes>"
      ]
     },
     "metadata": {},
     "output_type": "display_data"
    }
   ],
   "source": [
    "# Helper function to generate neighbors\n",
    "def neighbors(maze, current):\n",
    "    directions = [(0, 1), (1, 0), (0, -1), (-1, 0)]\n",
    "    (x, y) = current\n",
    "    result = []\n",
    "\n",
    "    for dx, dy in directions:\n",
    "        nx, ny = x + dx, y + dy\n",
    "\n",
    "        # Check if the neighbor is within the maze and not a wall\n",
    "        if 0 <= nx < len(maze) and 0 <= ny < len(maze[0]) and maze[nx][ny] != 1:\n",
    "            result.append((nx, ny))\n",
    "\n",
    "    return result\n",
    "\n",
    "# Depth-Limited Search\n",
    "def dls(maze, start, goal, limit):\n",
    "    return dls_recursive(maze, start, goal, limit, [start])\n",
    "\n",
    "def dls_recursive(maze, vertex, goal, limit, path):\n",
    "    if limit < 0:\n",
    "        return None\n",
    "\n",
    "    if vertex == goal:\n",
    "        return path\n",
    "\n",
    "    for next in neighbors(maze, vertex):\n",
    "        if next not in path:\n",
    "            next_path = dls_recursive(maze, next, goal, limit-1, path + [next])\n",
    "            if next_path:\n",
    "                return next_path\n",
    "\n",
    "    return None\n",
    "    \n",
    "def find_all_foods_dls(maze, start, foods, limit):\n",
    "    paths = []\n",
    "    current_position = start\n",
    "\n",
    "    for food in foods:\n",
    "        path_to_food = dls(maze, current_position, food, limit)\n",
    "\n",
    "        if path_to_food:\n",
    "            paths.append(path_to_food)\n",
    "            current_position = food\n",
    "\n",
    "    return paths\n",
    "\n",
    "\n",
    "# Depth limited search\n",
    "start_point = (5, 6)\n",
    "corner_foods = [(1, 1), (1, len(sample_maze[0]) - 2), (len(sample_maze) - 2, 1), (len(sample_maze) - 2, len(sample_maze[0]) - 2)]\n",
    "depth_limit = 30\n",
    "dls_path = find_all_foods_dls(sample_maze, start_point, corner_foods, depth_limit)\n",
    "show_solution(sample_maze, start_point, dls_path)\n"
   ]
  },
  {
   "cell_type": "markdown",
   "metadata": {},
   "source": [
    "### Efficiency of the Path"
   ]
  },
  {
   "cell_type": "code",
   "execution_count": 60,
   "metadata": {},
   "outputs": [
    {
     "name": "stdout",
     "output_type": "stream",
     "text": [
      "The number of steps taken by Pac-Man to complete the path is: 83\n"
     ]
    }
   ],
   "source": [
    "print(f\"The number of steps taken by Pac-Man to complete the path is: {count_steps(dls_path)}\")"
   ]
  },
  {
   "cell_type": "markdown",
   "metadata": {},
   "source": [
    "---\n",
    "## Iterative Deepening Search (IDS)\n",
    "\n",
    "Iterative Deepening Search (IDS) is an advanced algorithm that combines the strengths of Depth-First Search (DFS) and Breadth-First Search (BFS) by systematically increasing the depth limit used in Depth-Limited Search (DLS). IDS is particularly useful in pathfinding and puzzle-solving scenarios where the solution's depth is unknown and where maintaining low memory overhead is crucial.\n",
    "\n",
    "### Relationship between DFS, DLS, and IDS:\n",
    "\n",
    "- **Depth-First Search (DFS)**: DFS explores as deep as possible into the graph before backtracking. While efficient in terms of memory usage compared to BFS, it may get stuck in deep or infinite paths without ever exploring other branches.\n",
    "- **Depth-Limited Search (DLS)**: DLS modifies DFS by imposing a limit on the depth it can explore. This prevents the algorithm from venturing too far into potentially infinite paths but can miss solutions beyond the set depth limit.\n",
    "- **Iterative Deepening Search (IDS)**: IDS addresses the limitations of both DFS and DLS by incrementally increasing the depth limit. Starting at zero or a small number, IDS repeatedly applies DLS, each time with an increased depth limit. This approach ensures that it combines the space efficiency of DFS and the completeness and optimality of BFS, as it can find the shortest path without exploring too much of the graph at once.\n",
    "\n",
    "<br/>"
   ]
  },
  {
   "cell_type": "code",
   "execution_count": 61,
   "metadata": {},
   "outputs": [
    {
     "data": {
      "image/png": "[encoded data removed]",
      "text/plain": [
       "<Figure size 300x300 with 1 Axes>"
      ]
     },
     "metadata": {},
     "output_type": "display_data"
    },
    {
     "data": {
      "image/png": "[encoded data removed]",
      "text/plain": [
       "<Figure size 300x300 with 1 Axes>"
      ]
     },
     "metadata": {},
     "output_type": "display_data"
    },
    {
     "data": {
      "image/png": "[encoded data removed]",
      "text/plain": [
       "<Figure size 300x300 with 1 Axes>"
      ]
     },
     "metadata": {},
     "output_type": "display_data"
    },
    {
     "data": {
      "image/png": "[encoded data removed]",
      "text/plain": [
       "<Figure size 300x300 with 1 Axes>"
      ]
     },
     "metadata": {},
     "output_type": "display_data"
    }
   ],
   "source": [
    "def neighbors(maze, current):\n",
    "    directions = [(0, 1), (1, 0), (0, -1), (-1, 0)]\n",
    "    (x, y) = current\n",
    "    result = []\n",
    "\n",
    "    for dx, dy in directions:\n",
    "        nx, ny = x + dx, y + dy\n",
    "\n",
    "        # Check if the neighbor is within the maze and not a wall\n",
    "        if 0 <= nx < len(maze) and 0 <= ny < len(maze[0]) and maze[nx][ny] != 1:\n",
    "            result.append((nx, ny))\n",
    "\n",
    "    return result\n",
    "\n",
    "def dls(maze, start, goal, limit):\n",
    "    return dls_recursive(maze, start, goal, limit, [start])\n",
    "\n",
    "def dls_recursive(maze, vertex, goal, limit, path):\n",
    "    if limit < 0:\n",
    "        return None\n",
    "    if vertex == goal:\n",
    "        return path\n",
    "    for next in neighbors(maze, vertex):\n",
    "        if next not in path:\n",
    "            next_path = dls_recursive(maze, next, goal, limit-1, path + [next])\n",
    "            if next_path:\n",
    "                return next_path\n",
    "    return None\n",
    "\n",
    "def ids(maze, start, goal, max_depth):\n",
    "    for depth in range(max_depth):\n",
    "        path = dls(maze, start, goal, depth)\n",
    "        if path:\n",
    "            return path\n",
    "    return None\n",
    "\n",
    "def find_all_foods_ids(maze, start, foods, max_depth):\n",
    "    paths = []\n",
    "    current_position = start\n",
    "\n",
    "    for food in foods:\n",
    "        path_to_food = ids(maze, current_position, food, max_depth)\n",
    "\n",
    "        if path_to_food:\n",
    "            paths.append(path_to_food)\n",
    "            current_position = food\n",
    "\n",
    "    return paths\n",
    "\n",
    "\n",
    "# Iterative deepening search\n",
    "start_pt = (5, 6)\n",
    "depth_limit = 30\n",
    "corner_foods = [(1, 1), (1, len(sample_maze[0]) - 2), (len(sample_maze) - 2, 1), (len(sample_maze) - 2, len(sample_maze[0]) - 2)]\n",
    "ids_path = find_all_foods_ids(sample_maze, start_pt, corner_foods, depth_limit)\n",
    "show_solution(sample_maze, start_point, ids_path)"
   ]
  },
  {
   "cell_type": "markdown",
   "metadata": {},
   "source": [
    "### Efficiency of the Path"
   ]
  },
  {
   "cell_type": "code",
   "execution_count": 62,
   "metadata": {},
   "outputs": [
    {
     "name": "stdout",
     "output_type": "stream",
     "text": [
      "The number of steps taken by Pac-Man to complete the path is: 73\n"
     ]
    }
   ],
   "source": [
    "print(f\"The number of steps taken by Pac-Man to complete the path is: {count_steps(ids_path)}\")"
   ]
  },
  {
   "cell_type": "markdown",
   "metadata": {},
   "source": [
    "---\n",
    "## Uniform Cost Search (UCS)\n",
    "\n",
    "Uniform Cost Search (UCS) is a search algorithm best known for its implementation of a priority queue to manage the exploration of the search space. UCS expands the least costly node first, ensuring that the first path found to a goal node is the shortest one in terms of path cost. This characteristic makes UCS particularly useful for pathfinding on graphs where paths have different costs.\n",
    "\n",
    "### Key Characteristics of UCS:\n",
    "\n",
    "- **Optimality**: UCS is optimal, meaning it always finds the least costly path to a goal if such a path exists.\n",
    "- **Completeness**: The algorithm is complete, it will find a solution if one exists, provided the cost of each step is bounded by a positive constant.\n",
    "- **Cost-Sensitive**: Unlike other search algorithms that might simply count the number of steps, UCS takes into account the cumulative cost associated with each path.\n",
    "\n",
    "### UCS Implementation in Maze Navigation:\n",
    "\n",
    "In our simplified Pac-Man game scenario, UCS is utilized to navigate through a maze to reach all four corners where food is placed. The goal is to find the shortest path in terms of steps, with each step having a uniform cost.\n",
    "\n",
    "<br/>"
   ]
  },
  {
   "cell_type": "code",
   "execution_count": 63,
   "metadata": {},
   "outputs": [
    {
     "data": {
      "image/png": "[encoded data removed]",
      "text/plain": [
       "<Figure size 300x300 with 1 Axes>"
      ]
     },
     "metadata": {},
     "output_type": "display_data"
    },
    {
     "data": {
      "image/png": "[encoded data removed]",
      "text/plain": [
       "<Figure size 300x300 with 1 Axes>"
      ]
     },
     "metadata": {},
     "output_type": "display_data"
    },
    {
     "data": {
      "image/png": "[encoded data removed]",
      "text/plain": [
       "<Figure size 300x300 with 1 Axes>"
      ]
     },
     "metadata": {},
     "output_type": "display_data"
    },
    {
     "data": {
      "image/png": "[encoded data removed]",
      "text/plain": [
       "<Figure size 300x300 with 1 Axes>"
      ]
     },
     "metadata": {},
     "output_type": "display_data"
    }
   ],
   "source": [
    "def ucs_search_to_corner(grid, start, goal):\n",
    "    frontier = []  # Priority queue\n",
    "    heapq.heappush(frontier, (0, start))  # (cost, position)\n",
    "    came_from = {start: None}  # Track the path\n",
    "    cost_so_far = {start: 0}  # Track the cost to reach a node\n",
    "\n",
    "    while frontier:\n",
    "        current_cost, current_position = heapq.heappop(frontier)\n",
    "\n",
    "        # Goal check\n",
    "        if current_position == goal:\n",
    "            break\n",
    "\n",
    "        for next_position in neighbors(grid, current_position):\n",
    "            new_cost = current_cost + 1  # Assuming uniform cost\n",
    "            if next_position not in cost_so_far or new_cost < cost_so_far[next_position]:\n",
    "                cost_so_far[next_position] = new_cost\n",
    "                priority = new_cost\n",
    "                heapq.heappush(frontier, (priority, next_position))\n",
    "                came_from[next_position] = current_position\n",
    "\n",
    "    # Reconstruct and return the path\n",
    "    return reconstruct_path(came_from, start, goal)\n",
    "\n",
    "def reconstruct_path(came_from, start, goal):\n",
    "    current = goal\n",
    "    path = [current]\n",
    "    while current != start:\n",
    "        current = came_from[current]\n",
    "        path.append(current)\n",
    "    path.reverse()  # Reverse the path to start->goal\n",
    "    return path\n",
    "\n",
    "def neighbors(grid, cell):\n",
    "    # This function should return a list of valid neighbor positions for a cell in the grid\n",
    "    directions = [(0, 1), (1, 0), (0, -1), (-1, 0)]  # Right, Down, Left, Up\n",
    "    result = []\n",
    "    for dx, dy in directions:\n",
    "        nx, ny = cell[0] + dx, cell[1] + dy\n",
    "        if 0 <= nx < len(grid) and 0 <= ny < len(grid[0]) and grid[nx][ny] == 0:\n",
    "            result.append((nx, ny))\n",
    "    return result\n",
    "\n",
    "\n",
    "def ucs_search_all_corners(grid, start):\n",
    "    # Define the four corners of the maze\n",
    "    corners = [(1, 1), (1, len(grid[0])-2), (len(grid)-2, 1), (len(grid)-2, len(grid[0])-2)]\n",
    "    visited_corners = set()\n",
    "    current_position = start\n",
    "    paths_to_corners = []\n",
    "    \n",
    "    while len(visited_corners) < len(corners):\n",
    "        # Initialize variables for finding the closest corner\n",
    "        closest_corner = None\n",
    "        shortest_path_to_corner = None\n",
    "        \n",
    "        for corner in corners:\n",
    "            if corner not in visited_corners:\n",
    "                path_to_corner = ucs_search_to_corner(grid, current_position, corner)\n",
    "                # Check if this is the shortest path so far\n",
    "                if shortest_path_to_corner is None or len(path_to_corner) < len(shortest_path_to_corner):\n",
    "                    closest_corner = corner\n",
    "                    shortest_path_to_corner = path_to_corner\n",
    "        \n",
    "        if closest_corner:\n",
    "            visited_corners.add(closest_corner)\n",
    "            # Append the path to the specific corner\n",
    "            paths_to_corners.append(shortest_path_to_corner)\n",
    "            current_position = closest_corner\n",
    "\n",
    "    return paths_to_corners\n",
    "\n",
    "# Use the modified function to find paths to all corners\n",
    "start = (5, 6)  # Define the starting position\n",
    "ucs_path = ucs_search_all_corners(sample_maze, start)\n",
    "\n",
    "show_solution(sample_maze, start, ucs_path)"
   ]
  },
  {
   "cell_type": "markdown",
   "metadata": {},
   "source": [
    "### Efficiency of the Path"
   ]
  },
  {
   "cell_type": "code",
   "execution_count": 64,
   "metadata": {},
   "outputs": [
    {
     "name": "stdout",
     "output_type": "stream",
     "text": [
      "The number of steps taken by Pac-Man to complete the path is: 54\n"
     ]
    }
   ],
   "source": [
    "print(f\"The number of steps taken by Pac-Man to complete the path is: {count_steps(ucs_path)}\")"
   ]
  },
  {
   "cell_type": "markdown",
   "metadata": {},
   "source": [
    "---\n",
    "## Greedy Best-First Search\n",
    "\n",
    "Greedy Best-First Search (GBFS) is a search algorithm that explores paths in a graph by selecting the node that appears most promising at each step. It uses a heuristic to prioritize nodes closer to the goal, making it a quintessential example of an informed search strategy. This heuristic-driven approach ensures that the search is directed towards the goal efficiently compared to uninformed search strategies.\n",
    "\n",
    "### Heuristic Function:\n",
    "\n",
    "In our implementation, we use the **Manhattan Distance** as the heuristic. This heuristic estimates the cost from the current node to the goal based on the sum of the absolute differences in their Cartesian coordinates. Specifically, it calculates the distance between two points in a grid-based system, which is particularly well-suited for our maze environment where movements are restricted to horizontal and vertical steps."
   ]
  },
  {
   "cell_type": "code",
   "execution_count": 65,
   "metadata": {},
   "outputs": [
    {
     "data": {
      "image/png": "[encoded data removed]",
      "text/plain": [
       "<Figure size 300x300 with 1 Axes>"
      ]
     },
     "metadata": {},
     "output_type": "display_data"
    },
    {
     "data": {
      "image/png": "[encoded data removed]",
      "text/plain": [
       "<Figure size 300x300 with 1 Axes>"
      ]
     },
     "metadata": {},
     "output_type": "display_data"
    },
    {
     "data": {
      "image/png": "[encoded data removed]",
      "text/plain": [
       "<Figure size 300x300 with 1 Axes>"
      ]
     },
     "metadata": {},
     "output_type": "display_data"
    },
    {
     "data": {
      "image/png": "[encoded data removed]",
      "text/plain": [
       "<Figure size 300x300 with 1 Axes>"
      ]
     },
     "metadata": {},
     "output_type": "display_data"
    }
   ],
   "source": [
    "\n",
    "def heuristic_cost_estimate(point, corners):\n",
    "    # If corners is a single tuple, convert it to a list with one tuple\n",
    "    if isinstance(corners, tuple):\n",
    "        corners = [corners]\n",
    "        \n",
    "    # Calculate the Manhattan distance from the point to the closest unvisited corner\n",
    "    closest_corner = min(corners, key=lambda x: abs(point[0] - x[0]) + abs(point[1] - x[1]))\n",
    "    return abs(point[0] - closest_corner[0]) + abs(point[1] - closest_corner[1])\n",
    "\n",
    "\n",
    "def reconstruct_path(came_from, current):\n",
    "    total_path = [current]\n",
    "    while current in came_from:\n",
    "        current = came_from[current]\n",
    "        total_path.insert(0, current)\n",
    "    return total_path\n",
    "\n",
    "def neighbors(grid, cell):\n",
    "    neighbors = []\n",
    "    for dx, dy in [(1, 0), (-1, 0), (0, 1), (0, -1)]:\n",
    "        x, y = cell[0] + dx, cell[1] + dy\n",
    "        if 0 <= x < len(grid) and 0 <= y < len(grid[0]) and grid[x][y] != 1:\n",
    "            neighbors.append((x, y))\n",
    "    return neighbors\n",
    "\n",
    "def greedy_best_first_search(grid, start):\n",
    "    corners = [(1, 1), (1, len(grid[0])-2), (len(grid)-2, 1), (len(grid)-2, len(grid[0])-2)]\n",
    "    unvisited_corners = set(corners)\n",
    "    path = []\n",
    "    visited = set()\n",
    "\n",
    "    while unvisited_corners:\n",
    "        closest_corner = min(unvisited_corners, key=lambda x: heuristic_cost_estimate(start, x))\n",
    "        goal = closest_corner\n",
    "\n",
    "        open_set = []\n",
    "        heapq.heappush(open_set, (heuristic_cost_estimate(start, goal), start))\n",
    "        came_from = {}\n",
    "        visited.clear()\n",
    "\n",
    "        while open_set:\n",
    "            current_heuristic, current = heapq.heappop(open_set)\n",
    "\n",
    "            if current == goal:\n",
    "                path.append(reconstruct_path(came_from, current))\n",
    "                start = current  # Update start to last goal for the next iteration\n",
    "                unvisited_corners.remove(goal)  # Remove reached corner from the goals\n",
    "                break  # Exit the loop since goal is reached\n",
    "\n",
    "            visited.add(current)\n",
    "\n",
    "            for neighbor in neighbors(grid, current):\n",
    "                if neighbor in visited:\n",
    "                    continue  # Skip visited neighbors\n",
    "                \n",
    "                if neighbor not in came_from:\n",
    "                    came_from[neighbor] = current\n",
    "                    heapq.heappush(open_set, (heuristic_cost_estimate(neighbor, goal), neighbor))\n",
    "\n",
    "            if not open_set:  # If open_set is empty, goal is not reachable\n",
    "                print(f\"Goal {goal} is not reachable from {start}. Moving to the next goal.\")\n",
    "                unvisited_corners.remove(goal)  # Remove the unreachable goal\n",
    "                break  # Break out of the loop to try the next goal\n",
    "\n",
    "    return path\n",
    "\n",
    "\n",
    "# Greedy best-first search\n",
    "start_point = (5, 6)\n",
    "gbfs_path = greedy_best_first_search(sample_maze, start_point)\n",
    "show_solution(sample_maze, start_point, gbfs_path)"
   ]
  },
  {
   "cell_type": "markdown",
   "metadata": {},
   "source": [
    "### Efficiency of the Path"
   ]
  },
  {
   "cell_type": "code",
   "execution_count": 66,
   "metadata": {},
   "outputs": [
    {
     "name": "stdout",
     "output_type": "stream",
     "text": [
      "The number of steps taken by Pac-Man to complete the path is: 61\n"
     ]
    }
   ],
   "source": [
    "print(f\"The number of steps taken by Pac-Man to complete the path is: {count_steps(gbfs_path)}\")"
   ]
  },
  {
   "cell_type": "markdown",
   "metadata": {},
   "source": [
    "---\n",
    "## A* Search Algorithm\n",
    "\n",
    "A* Search is a highly efficient and powerful pathfinding and graph traversal algorithm. It combines features of both Uniform Cost Search (UCS) and Greedy Best-First Search (GBFS) to find the most cost-effective path to a target. A* is widely regarded for its performance and accuracy in a variety of applications, from AI in games to real-world navigation systems.\n",
    "\n",
    "### Overview of A* Search:\n",
    "\n",
    "A* Search uses a heuristic to estimate the cost from the current node to the goal, which helps it to prioritize which paths to explore. By combining this heuristic with the cost from the start node to the current node, A* efficiently finds the shortest path to the goal. This combination allows A* to make informed decisions about which paths are likely to lead to the least total cost.\n",
    "\n",
    "### Relationship with UCS and GBFS:\n",
    "\n",
    "- **Uniform Cost Search (UCS)**: UCS is a type of search that prioritizes paths based on their cumulative cost. It always expands the least costly node first. UCS is a special case of A* where the heuristic is zero at all nodes (h(n) = 0 for all n), meaning it does not consider the distance to the goal.\n",
    "  \n",
    "- **Greedy Best-First Search (GBFS)**: GBFS expands nodes based on a heuristic that estimates how close the remaining path is to the goal. Unlike A*, GBFS does not consider the cost already incurred to reach the current node (g(n) is ignored).\n",
    "\n",
    "### How A* Search Works:\n",
    "\n",
    "A* Search maintains a priority queue where each entry is associated with a cost, calculated as f(n) = g(n) + h(n), where:\n",
    "- g(n) is the cost from the start node to node n.\n",
    "- h(n) is the heuristic estimate of the cost from n to the goal.\n",
    "\n",
    "This structure ensures that the path with the lowest estimated total cost is prioritized. A* Search will continue to explore paths until the goal is reached, ensuring the path is optimal if the heuristic function is admissible (never overestimates the actual cost).\n",
    "\n",
    "<br/>"
   ]
  },
  {
   "cell_type": "code",
   "execution_count": 67,
   "metadata": {},
   "outputs": [
    {
     "data": {
      "image/png": "[encoded data removed]",
      "text/plain": [
       "<Figure size 300x300 with 1 Axes>"
      ]
     },
     "metadata": {},
     "output_type": "display_data"
    },
    {
     "data": {
      "image/png": "[encoded data removed]",
      "text/plain": [
       "<Figure size 300x300 with 1 Axes>"
      ]
     },
     "metadata": {},
     "output_type": "display_data"
    },
    {
     "data": {
      "image/png": "[encoded data removed]",
      "text/plain": [
       "<Figure size 300x300 with 1 Axes>"
      ]
     },
     "metadata": {},
     "output_type": "display_data"
    },
    {
     "data": {
      "image/png": "[encoded data removed]",
      "text/plain": [
       "<Figure size 300x300 with 1 Axes>"
      ]
     },
     "metadata": {},
     "output_type": "display_data"
    }
   ],
   "source": [
    "import heapq\n",
    "\n",
    "# This function remains unchanged; it's included for clarity\n",
    "def reconstruct_path(came_from, goal):\n",
    "    current = goal\n",
    "    path = [current]\n",
    "    while current in came_from:\n",
    "        current = came_from[current]\n",
    "        path.append(current)\n",
    "    path.reverse()  # Reverse the path to start->goal\n",
    "    return path\n",
    "\n",
    "# Adjusted call within a_star_search_to_corner\n",
    "def a_star_search_to_corner(grid, start, goal, heuristic):\n",
    "    frontier = []  # Priority queue\n",
    "    heapq.heappush(frontier, (0 + heuristic(start, goal), start))  # (priority, position)\n",
    "    came_from = {start: None}  # Track the path\n",
    "    cost_so_far = {start: 0}  # Track the cost to reach a node\n",
    "\n",
    "    while frontier:\n",
    "        _, current_position = heapq.heappop(frontier)\n",
    "\n",
    "        if current_position == goal:\n",
    "            break\n",
    "\n",
    "        for next_position in neighbors(grid, current_position):\n",
    "            new_cost = cost_so_far[current_position] + 1  # Assuming uniform cost\n",
    "            if next_position not in cost_so_far or new_cost < cost_so_far[next_position]:\n",
    "                cost_so_far[next_position] = new_cost\n",
    "                priority = new_cost + heuristic(next_position, goal)\n",
    "                heapq.heappush(frontier, (priority, next_position))\n",
    "                came_from[next_position] = current_position\n",
    "\n",
    "    return reconstruct_path(came_from, goal)  # Adjusted to match function definition\n",
    "\n",
    "\n",
    "def a_star_search_all_corners(grid, start):\n",
    "    corners = [(1, 1), (1, len(grid[0])-2), (len(grid)-2, 1), (len(grid)-2, len(grid[0])-2)]\n",
    "    visited_corners = set()\n",
    "    current_position = start\n",
    "    paths_to_corners = []\n",
    "\n",
    "    while len(visited_corners) < len(corners):\n",
    "        closest_corner = None\n",
    "        shortest_path_to_corner = None\n",
    "        for corner in corners:\n",
    "            if corner not in visited_corners:\n",
    "                path_to_corner = a_star_search_to_corner(grid, current_position, corner, heuristic_cost_estimate)\n",
    "                if shortest_path_to_corner is None or len(path_to_corner) < len(shortest_path_to_corner):\n",
    "                    closest_corner = corner\n",
    "                    shortest_path_to_corner = path_to_corner\n",
    "\n",
    "        if closest_corner:\n",
    "            visited_corners.add(closest_corner)\n",
    "            shortest_path_to_corner.pop(0)\n",
    "            paths_to_corners.append(shortest_path_to_corner)\n",
    "            current_position = closest_corner\n",
    "\n",
    "    return paths_to_corners\n",
    "\n",
    "\n",
    "# A* search\n",
    "start_point = (5, 6)\n",
    "a_star_path = a_star_search_all_corners(sample_maze, start_point)\n",
    "show_solution(sample_maze, start_point, a_star_path)"
   ]
  },
  {
   "cell_type": "markdown",
   "metadata": {},
   "source": [
    "### Efficiency of the Path"
   ]
  },
  {
   "cell_type": "code",
   "execution_count": 68,
   "metadata": {},
   "outputs": [
    {
     "name": "stdout",
     "output_type": "stream",
     "text": [
      "The number of steps taken by Pac-Man to complete the path is: 54\n"
     ]
    }
   ],
   "source": [
    "print(f\"The number of steps taken by Pac-Man to complete the path is: {count_steps(a_star_path)}\")"
   ]
  },
  {
   "cell_type": "markdown",
   "metadata": {},
   "source": [
    "---\n",
    "\n",
    "## Conclusion: Evaluating Search Algorithms in Simplified Pac-Man\n",
    "\n",
    "Throughout this notebook, we've embarked on a detailed exploration of several search algorithms to tackle the challenge posed in our simplified version of Pac-Man—finding the shortest path to consume all foods placed at the corners of a maze. By implementing and comparing both uninformed and informed search strategies, we have gained valuable insights into the strengths and weaknesses of each algorithm in the context of pathfinding.\n",
    "\n",
    "### Key Insights:\n",
    "\n",
    "1. **Performance Variability**:\n",
    "   - **Uninformed Search Algorithms** such as Breadth-First Search (BFS) and Uniform Cost Search (UCS) proved to be robust in finding the shortest path but at the cost of higher computational overhead due to their exhaustive nature.\n",
    "   - **Depth-First Search (DFS)** and **Depth-Limited Search (DLS)**, while faster in terms of execution time, did not always guarantee the shortest path, especially in complex mazes with numerous pathways.\n",
    "\n",
    "2. **Optimality and Efficiency**:\n",
    "   - **Iterative Deepening Search (IDS)** emerged as a compromise between DFS and BFS, providing a more optimal solution in terms of space and time complexity compared to purely using DFS or BFS.\n",
    "   - **Greedy Best-First Search (GBFS)** demonstrated quick results by honing in on the goal but sometimes at the expense of path optimality, illustrating the trade-off between speed and accuracy.\n",
    "\n",
    "3. **Superiority of A\\* Search**:\n",
    "   - Among all the algorithms, **A* Search** stood out for its effectiveness and efficiency. By intelligently combining the cost to reach a node and an heuristic estimate of the cost to get to the goal (using Manhattan distance), A* Search consistently found the most optimal path faster than the other algorithms.\n",
    "   - The adaptability of A* Search to different heuristic functions also showcased its versatility in being tailored to specific types of mazes or goals.\n",
    "\n",
    "### Practical Implications:\n",
    "\n",
    "The implications of this study extend beyond the game of Pac-Man. The methodologies and findings are applicable in various domains, such as robotics navigation, route planning in logistics, and even in strategic game playing where pathfinding is crucial. The ability to choose an appropriate search algorithm based on the specific requirements of the task—whether it's optimality, efficiency, or computational resources—can significantly enhance the performance of AI systems.\n",
    "\n",
    "### Future Directions:\n",
    "\n",
    "Further research could explore hybrid approaches that combine features of both informed and uninformed search strategies, potentially leading to more sophisticated algorithms that can dynamically adjust their strategy based on the maze's complexity or in response to changing environments in real-time applications.\n",
    "\n",
    "In conclusion, this notebook has not only highlighted the theoretical aspects of each algorithm but has also demonstrated their practical application in a fun and engaging manner. As we continue to push the boundaries of what AI can achieve, the lessons learned here will undoubtedly contribute to more advanced and intelligent systems in the future.\n",
    "\n",
    "---\n"
   ]
  },
  {
   "cell_type": "code",
   "execution_count": null,
   "metadata": {},
   "outputs": [],
   "source": []
  }
 ],
 "metadata": {
  "kernelspec": {
   "display_name": "Python 3",
   "language": "python",
   "name": "python3"
  },
  "language_info": {
   "codemirror_mode": {
    "name": "ipython",
    "version": 3
   },
   "file_extension": ".py",
   "mimetype": "text/x-python",
   "name": "python",
   "nbconvert_exporter": "python",
   "pygments_lexer": "ipython3",
   "version": "3.11.4"
  }
 },
 "nbformat": 4,
 "nbformat_minor": 2
}
