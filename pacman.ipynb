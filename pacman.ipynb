{
 "cells": [
  {
   "cell_type": "markdown",
   "metadata": {},
   "source": [
    "# Simplified Pac-Man: A Study of AI Search Algorithms\n",
    "\n",
    "---\n",
    "\n",
    "In this notebook, we embark on a journey to explore the fascinating world of search algorithms within the realm of AI, using the classic and well-loved game of Pac-Man as our case study. Our aim is to understand and implement a variety of search strategies to navigate the Pac-Man through a maze. This simplified version of the game provides a perfect setting to delve into both uninformed (blind) and informed (heuristic-based) search algorithms, crucial in the field of Artificial Intelligence.\n",
    "\n",
    "The algorithms we will explore include:\n",
    "\n",
    "### Uninformed Search Algorithms:\n",
    "- **Breadth-First Search (BFS)**: Known for its completeness and simplicity, BFS explores the maze level by level, ensuring no spot is missed.\n",
    "- **Depth-First Search (DFS)**: This algorithm takes a deeper dive into the maze, exploring paths to their fullest before backtracking, often leading to more efficient solutions in certain scenarios.\n",
    "- **Depth-Limited Search (DLS)**: A variant of DFS, DLS adds a depth limitation to prevent wandering infinitely in loops.\n",
    "- **Iterative Deepening Search (IDS)**: Combining the virtues of BFS's completeness and DFS's space efficiency, IDS progressively deepens the search.\n",
    "- **Uniform Cost Search (UCS)**: Prioritizing paths based on their cumulative cost, UCS is ideal for finding the least costly path in terms of distance or other metrics.\n",
    "\n",
    "### Informed Search Algorithms:\n",
    "- **Greedy Search**: Focusing on the most promising path, Greedy Search can be efficient but lacks completeness.\n",
    "- **A\\* Search**: A sophisticated algorithm that combines the best of both worlds – it's both complete and optimal, efficiently finding the shortest path using heuristics.\n",
    "\n",
    "Each algorithm has its unique characteristics and is suitable for different types of mazes and objectives. Through this exploration, we will not only understand these algorithms theoretically but also see them in action as we program Pac-Man to navigate the maze, find the dots, and avoid ghosts.\n",
    "\n",
    "As we progress, we'll discuss the implementation details, strengths, and limitations of each algorithm, providing a comprehensive understanding of AI's approach to problem-solving in games and beyond.\n",
    "\n",
    "So, let's gear up to dive into the code, unravel these algorithms, and bring Pac-Man to life in this AI-powered maze adventure!\n",
    "\n",
    "---\n"
   ]
  },
  {
   "cell_type": "markdown",
   "metadata": {},
   "source": [
    "## Introduction to Our Simplified Pac-Man Game\n",
    "\n",
    "Dive into the world of AI pathfinding with our simplified version of the iconic ```Pac-Man``` game. Unlike the traditional game (https://en.wikipedia.org/wiki/Pac-Man), this simplified version focuses purely on strategic movement and pathfinding, essential components in the field of Artificial Intelligence. In this game, our Pac-Man has to navigate through a maze to eat all four foods placed in each corner, but **without** the challenge of evading ghosts. This setup provides an excellent scenario for understanding and applying different search algorithms.\n",
    "\n",
    "### Game Setup and Visualization:\n",
    "\n",
    "- **Maze Layout**: The game is played on a grid-based maze, similar to the classic Pac-Man, but with a twist. Here, the maze consists of walkable paths and walls.\n",
    "- **Colors in the Maze**:\n",
    "  - **Red**: Represents the food items placed in each corner of the maze.\n",
    "  - **Yellow**: Denotes the starting position of Pac-Man.\n",
    "  - **Black**: Indicates the walls or barriers in the maze that Pac-Man cannot pass through.\n",
    "  - **White**: Signifies walkable paths where Pac-Man can move.\n",
    "  - **Blue**: Shows the path taken by Pac-Man to reach the food.\n",
    "\n",
    "### Objectives:\n",
    "\n",
    "1. **Pathfinding Challenge**: The primary goal is to find the shortest path for Pac-Man to eat all four foods placed in the maze's corners. \n",
    "2. **Search Algorithms**: To achieve this, we will employ various search algorithms, both uninformed and informed, each offering a unique approach to solving the maze.\n",
    "3. **Visualization**: After applying each algorithm, the resultant path taken by Pac-Man will be visualized on the maze. This will not only showcase the algorithm's effectiveness but also provide visual feedback on the strategy used by Pac-Man.\n",
    "\n",
    "---\n"
   ]
  },
  {
   "cell_type": "markdown",
   "metadata": {},
   "source": [
    "### Essential Libraries\n",
    "\n",
    "Let's begin by importing the essential Python libraries."
   ]
  },
  {
   "cell_type": "code",
   "execution_count": 11,
   "metadata": {},
   "outputs": [],
   "source": [
    "from collections import deque\n",
    "import matplotlib.pyplot as plt\n",
    "from matplotlib.colors import ListedColormap\n",
    "from copy import deepcopy\n",
    "from math import inf\n",
    "import heapq"
   ]
  },
  {
   "cell_type": "markdown",
   "metadata": {},
   "source": [
    "### Visualize the Maze\n",
    "\n",
    "Setting up our simplified Pac-Man game environment."
   ]
  },
  {
   "cell_type": "code",
   "execution_count": 12,
   "metadata": {},
   "outputs": [],
   "source": [
    "'''\n",
    "USAGE EXAMPLE\n",
    "\n",
    "# Visualize a blank maze\n",
    "show_maze(sample_maze)\n",
    "\n",
    "# Visualize a maze with Pac-Man at (5, 6)\n",
    "show_maze(sample_maze, (5, 6))\n",
    "\n",
    "# List storing valid cell coordinates\n",
    "path = [[6, 6], [6, 5], [6, 4], [5, 4], [5, 3], [5, 2], [5, 1], [4, 1], [3, 1], [2, 1]]\n",
    "\n",
    "# Visualize the searched maze\n",
    "show_maze(sample_maze, (5, 6), path)\n",
    "\n",
    "'''\n",
    "\n",
    "\n",
    "# Edit this for your own maze design\n",
    "blank_maze = [[1, 1, 1, 1, 1, 1, 1, 1, 1, 1, 1, 1],\n",
    "              [1, 0, 0, 0, 0, 0, 0, 0, 0, 0, 0, 1],\n",
    "              [1, 0, 0, 0, 0, 0, 0, 0, 0, 0, 0, 1],\n",
    "              [1, 0, 0, 0, 0, 0, 0, 0, 0, 0, 0, 1],\n",
    "              [1, 0, 0, 0, 0, 0, 0, 0, 0, 0, 0, 1],\n",
    "              [1, 0, 0, 0, 0, 0, 0, 0, 0, 0, 0, 1],\n",
    "              [1, 0, 0, 0, 0, 0, 0, 0, 0, 0, 0, 1],\n",
    "              [1, 0, 0, 0, 0, 0, 0, 0, 0, 0, 0, 1],\n",
    "              [1, 0, 0, 0, 0, 0, 0, 0, 0, 0, 0, 1],\n",
    "              [1, 0, 0, 0, 0, 0, 0, 0, 0, 0, 0, 1],\n",
    "              [1, 0, 0, 0, 0, 0, 0, 0, 0, 0, 0, 1],\n",
    "              [1, 1, 1, 1, 1, 1, 1, 1, 1, 1, 1, 1]]\n",
    "\n",
    "\n",
    "# For testing\n",
    "sample_maze = [[1, 1, 1, 1, 1, 1, 1, 1, 1, 1, 1, 1],\n",
    "               [1, 0, 1, 0, 0, 0, 0, 1, 0, 0, 0, 1],\n",
    "               [1, 0, 1, 1, 1, 1, 0, 1, 1, 0, 1, 1],\n",
    "               [1, 0, 1, 0, 0, 0, 0, 1, 0, 0, 0, 1],\n",
    "               [1, 0, 1, 1, 0, 1, 1, 1, 1, 1, 0, 1],\n",
    "               [1, 0, 0, 0, 0, 1, 0, 1, 0, 0, 0, 1],\n",
    "               [1, 1, 0, 1, 0, 0, 0, 1, 0, 1, 0, 1],\n",
    "               [1, 0, 0, 1, 0, 1, 1, 1, 0, 1, 0, 1],\n",
    "               [1, 0, 1, 1, 0, 1, 0, 0, 0, 1, 1, 1],\n",
    "               [1, 0, 0, 0, 0, 1, 1, 1, 0, 1, 0, 1],\n",
    "               [1, 0, 1, 0, 0, 0, 0, 0, 0, 0, 0, 1],\n",
    "               [1, 1, 1, 1, 1, 1, 1, 1, 1, 1, 1, 1]]\n",
    "\n",
    "\n",
    "    \n",
    "# Visualises the maze corresponding to grid passed in\n",
    "def show_maze(grid, start=None, path=None, show_corners=[1, 1, 1, 1], CELL_SIZE=3):\n",
    "    # Make a copy of the maze\n",
    "    grid_copy = deepcopy(grid)\n",
    "    \n",
    "    color_map = {\n",
    "        \"white\": 0,\n",
    "        \"black\": 1,\n",
    "        \"yellow\": 2,\n",
    "        \"blue\": 3,\n",
    "        \"red\": 4\n",
    "    }\n",
    "    \n",
    "    # Input validation\n",
    "    # if not valid_maze(grid):\n",
    "    #    raise ValueError(\"Maze is incomplete! Must have all four colors\")\n",
    "    \n",
    "    # Add path to the maze\n",
    "    if path:\n",
    "        grid_copy = add_path(grid_copy, path)\n",
    "    \n",
    "    # Add color for four corners\n",
    "    corners = [(1, 1), (1, len(grid[0]) - 2), (len(grid) - 2, 1), (len(grid) - 2, len(grid[0]) - 2)]\n",
    "    for i in range(4):\n",
    "        if show_corners[i]:\n",
    "            grid_copy[corners[i][0]][corners[i][1]] = color_map[\"red\"]\n",
    "        \n",
    "    # Add Pac-Man to the maze\n",
    "    if start:\n",
    "        grid_copy[start[0]][start[1]] = color_map[\"yellow\"]\n",
    "    \n",
    "    # Define the colors for specific values\n",
    "    colors = color_map.keys()\n",
    "    \n",
    "    # Create a colormap with distinct colors for specific values\n",
    "    cmap = ListedColormap(colors)\n",
    "\n",
    "    # Create a figure and axis\n",
    "    fig, ax = plt.subplots(figsize=(CELL_SIZE, CELL_SIZE))\n",
    "\n",
    "    # Draw the grid with the custom colormap\n",
    "    ax.imshow(grid_copy, cmap=cmap, interpolation='nearest')\n",
    "\n",
    "    # Hide the axes labels\n",
    "    ax.axis('off')\n",
    "\n",
    "    # Display the plot\n",
    "    plt.show()\n",
    "\n",
    "\n",
    "# Visualises the complete solution found by a search\n",
    "# Works by displaying each segment of the solution path with a copy of the maze\n",
    "def show_solution(maze, start, path):\n",
    "    corners = [(1, 1), (1, len(maze[0]) - 2), (len(maze) - 2, 1), (len(maze) - 2, len(maze[0]) - 2)]\n",
    "    label = [1, 1, 1, 1]\n",
    "    for segment in path:\n",
    "        show_maze(maze, segment[0], segment, label)\n",
    "        label[corners.index(segment[-1])] = 0\n",
    "\n",
    "\n",
    "    \n",
    "# Helper function\n",
    "# Accepts a list of coordinates of the path squares\n",
    "# Checks if all path squares are valid before adding them to the maze grid\n",
    "def add_path(grid, path):\n",
    "    for coords in range(len(path)):\n",
    "        x, y = path[coords]\n",
    "        if grid[x][y] == 1:\n",
    "            raise ValueError(f\"Invalid path! Failed to add ({x}, {y})\")\n",
    "        grid[x][y] = 3\n",
    "    \n",
    "    return grid\n",
    "        \n",
    "\n",
    "# Determines maze validity \n",
    "def valid_maze(grid):\n",
    "    yellow = red = False\n",
    "    \n",
    "    for i in range(len(grid)):\n",
    "        for j in range(len(grid[i])):\n",
    "            if grid[i][j] == 2:\n",
    "                yellow = True\n",
    "            elif grid[i][j] == 4:\n",
    "                red = True\n",
    "    \n",
    "    return yellow and red\n",
    "\n",
    "\n",
    "# Count the number of steps\n",
    "def count_steps(path):\n",
    "    count = 0\n",
    "    for segment in path:\n",
    "        count += len(segment)\n",
    "\n",
    "    return (count - 4)"
   ]
  },
  {
   "cell_type": "code",
   "execution_count": 13,
   "metadata": {},
   "outputs": [
    {
     "data": {
      "image/png": "[encoded data removed]",
      "text/plain": [
       "<Figure size 300x300 with 1 Axes>"
      ]
     },
     "metadata": {},
     "output_type": "display_data"
    }
   ],
   "source": [
    "show_maze(sample_maze)"
   ]
  },
  {
   "cell_type": "markdown",
   "metadata": {},
   "source": [
    "---\n",
    "\n",
    "## Breadth-first Search (BFS)\n",
    "\n",
    "This algorithm iterates through the maze using a queue, expanding to neighboring cells until it reaches each corner. If a corner is encountered, it is removed from the list of remaining corners to visit. The function returns a list of segments, where each segment represents a path from the starting point to one of the corners. Finally, the `show_solution` function visualizes the maze and the complete path that passes through all four corners.\n",
    "\n",
    "<br/>"
   ]
  },
  {
   "cell_type": "code",
   "execution_count": 14,
   "metadata": {},
   "outputs": [
    {
     "data": {
      "image/png": "[encoded data removed]",
      "text/plain": [
       "<Figure size 300x300 with 1 Axes>"
      ]
     },
     "metadata": {},
     "output_type": "display_data"
    },
    {
     "data": {
      "image/png": "[encoded data removed]",
      "text/plain": [
       "<Figure size 300x300 with 1 Axes>"
      ]
     },
     "metadata": {},
     "output_type": "display_data"
    },
    {
     "data": {
      "image/png": "[encoded data removed]",
      "text/plain": [
       "<Figure size 300x300 with 1 Axes>"
      ]
     },
     "metadata": {},
     "output_type": "display_data"
    },
    {
     "data": {
      "image/png": "[encoded data removed]",
      "text/plain": [
       "<Figure size 300x300 with 1 Axes>"
      ]
     },
     "metadata": {},
     "output_type": "display_data"
    }
   ],
   "source": [
    "def bfs(maze, start):\n",
    "    corners = [(1, 1), (1, len(maze[0]) - 2), (len(maze) - 2, 1), (len(maze) - 2, len(maze[0]) - 2)]\n",
    "    \n",
    "    # Record segments of complete path\n",
    "    path_full = []\n",
    "    \n",
    "    # Define the four possible directions: up, down, left, right\n",
    "    directions = [(-1, 0), (1, 0), (0, -1), (0, 1)]\n",
    "    \n",
    "    while len(corners):    \n",
    "        # Initialize a queue for BFS\n",
    "        queue = deque([(start, [start])])\n",
    "\n",
    "        # Initialize a set to keep track of visited cells\n",
    "        visited = set()\n",
    "\n",
    "        # Mark the start cell as visited\n",
    "        visited.add(start)\n",
    "\n",
    "        # Perform BFS\n",
    "        while queue:\n",
    "            current_cell, path = queue.popleft()\n",
    "\n",
    "            if current_cell in corners:\n",
    "                path_full.append(path)\n",
    "                corners.remove(current_cell)\n",
    "                start = current_cell\n",
    "                break\n",
    "\n",
    "            for direction in directions:\n",
    "                new_cell = (current_cell[0] + direction[0], current_cell[1] + direction[1])\n",
    "                if 0 <= new_cell[0] < len(maze) and 0 <= new_cell[1] < len(maze[0]) and maze[new_cell[0]][new_cell[1]] != 1 and new_cell not in visited:\n",
    "                    queue.append((new_cell, path + [new_cell]))\n",
    "                    visited.add(new_cell)\n",
    "    \n",
    "    \n",
    "    return path_full\n",
    "\n",
    "\n",
    "\n",
    "# Breadth-first search\n",
    "start = (5, 6)\n",
    "bfs_path = bfs(sample_maze, start)\n",
    "show_solution(sample_maze, start, bfs_path)"
   ]
  },
  {
   "cell_type": "markdown",
   "metadata": {},
   "source": [
    "### Efficiency of the Path"
   ]
  },
  {
   "cell_type": "markdown",
   "metadata": {},
   "source": [
    "Now that we have applied the `Breadth First Search` algorithm to find a path for Pac-Man, let's evaluate the efficiency of the path. We will count the number of steps Pac-Man must take to traverse the path provided by the algorithm. This count helps us understand the practical implications of each algorithm's strategy and efficiency.\n"
   ]
  },
  {
   "cell_type": "code",
   "execution_count": 15,
   "metadata": {},
   "outputs": [
    {
     "name": "stdout",
     "output_type": "stream",
     "text": [
      "The number of steps taken by Pac-Man to complete the path is: 54\n"
     ]
    }
   ],
   "source": [
    "print(f\"The number of steps taken by Pac-Man to complete the path is: {count_steps(bfs_path)}\")"
   ]
  },
  {
   "cell_type": "markdown",
   "metadata": {},
   "source": [
    "---\n",
    "\n",
    "### Alternative Implementation\n",
    "\n",
    "Although BFS is still used here, we feel that this is not the best solution to the maze problem, as in this implementation, BFS is applied to ALL the possible corner visiting sequences and the best path is selected.\n",
    "\n",
    "<br/>"
   ]
  },
  {
   "cell_type": "code",
   "execution_count": 17,
   "metadata": {},
   "outputs": [
    {
     "data": {
      "image/png": "[encoded data removed]",
      "text/plain": [
       "<Figure size 300x300 with 1 Axes>"
      ]
     },
     "metadata": {},
     "output_type": "display_data"
    },
    {
     "data": {
      "image/png": "[encoded data removed]",
      "text/plain": [
       "<Figure size 300x300 with 1 Axes>"
      ]
     },
     "metadata": {},
     "output_type": "display_data"
    },
    {
     "data": {
      "image/png": "[encoded data removed]",
      "text/plain": [
       "<Figure size 300x300 with 1 Axes>"
      ]
     },
     "metadata": {},
     "output_type": "display_data"
    },
    {
     "data": {
      "image/png": "[encoded data removed]",
      "text/plain": [
       "<Figure size 300x300 with 1 Axes>"
      ]
     },
     "metadata": {},
     "output_type": "display_data"
    }
   ],
   "source": [
    "def bfs(maze, start, end):\n",
    "    # Define the four possible directions: up, down, left, right\n",
    "    directions = [(-1, 0), (1, 0), (0, -1), (0, 1)]\n",
    "    \n",
    "    # Initialize a queue for BFS\n",
    "    queue = deque([(start, [start])])\n",
    "    \n",
    "    # Initialize a set to keep track of visited cells\n",
    "    visited = set()\n",
    "    \n",
    "    # Mark the start cell as visited\n",
    "    visited.add(start)\n",
    "    \n",
    "    # Perform BFS\n",
    "    while queue:\n",
    "        current_cell, path = queue.popleft()\n",
    "        if current_cell == end:\n",
    "            return path\n",
    "        \n",
    "        for direction in directions:\n",
    "            new_cell = (current_cell[0] + direction[0], current_cell[1] + direction[1])\n",
    "            if 0 <= new_cell[0] < len(maze) and 0 <= new_cell[1] < len(maze[0]) and maze[new_cell[0]][new_cell[1]] != 1 and new_cell not in visited:\n",
    "                queue.append((new_cell, path + [new_cell]))\n",
    "                visited.add(new_cell)\n",
    "    \n",
    "    return None\n",
    "\n",
    "\n",
    "def bfs_alt(maze, start):\n",
    "    \n",
    "    corners = [(1, 1), (1, len(maze[0]) - 2), (len(maze) - 2, 1), (len(maze) - 2, len(maze[0]) - 2)]\n",
    "    \n",
    "    # Generate all possible corner visiting sequences\n",
    "    seq = list(permutations(corners))\n",
    "    \n",
    "    # Assume first path found is optimal\n",
    "    min_path = []\n",
    "    min_path.append(bfs(maze, start, seq[0][0]))\n",
    "    for i in range(3):\n",
    "        min_path.append(bfs(maze, seq[0][i], seq[0][i+1]))\n",
    "    min_cost = sum([len(segment) for segment in min_path])\n",
    "    \n",
    "    # Find the path with minimum cost\n",
    "    for i in range(1, len(seq)):\n",
    "        path = []\n",
    "        path.append(bfs(maze, start, seq[i][0]))\n",
    "        for j in range(3):\n",
    "            path.append(bfs(maze, seq[i][j], seq[i][j+1]))\n",
    "        length = sum([len(segment) for segment in path])\n",
    "        if length < min_cost:\n",
    "            min_path = path\n",
    "            min_cost = length\n",
    "            \n",
    "    return min_path\n",
    "\n",
    "\n",
    "def permutations(nums):\n",
    "    if len(nums) == 1:\n",
    "        return [nums]\n",
    "    \n",
    "    result = []\n",
    "    for i in range(len(nums)):\n",
    "        current_num = nums[i]\n",
    "        remaining_nums = nums[:i] + nums[i+1:]\n",
    "        sub_permutations = permutations(remaining_nums)\n",
    "        for perm in sub_permutations:\n",
    "            result.append([current_num] + perm)\n",
    "    \n",
    "    return result\n",
    "\n",
    "\n",
    "        \n",
    "# Breadth-first search\n",
    "start = (5, 6)\n",
    "bfs_alt_path = bfs_alt(sample_maze, start)\n",
    "show_solution(sample_maze, start, bfs_alt_path)"
   ]
  },
  {
   "cell_type": "markdown",
   "metadata": {},
   "source": [
    "### Efficiency of the Path"
   ]
  },
  {
   "cell_type": "code",
   "execution_count": 18,
   "metadata": {},
   "outputs": [
    {
     "name": "stdout",
     "output_type": "stream",
     "text": [
      "The number of steps taken by Pac-Man to complete the path is: 48\n"
     ]
    }
   ],
   "source": [
    "print(f\"The number of steps taken by Pac-Man to complete the path is: {count_steps(bfs_alt_path)}\")"
   ]
  },
  {
   "cell_type": "markdown",
   "metadata": {},
   "source": [
    "---\n",
    "\n",
    "## Depth-first Search (DFS)\n",
    "\n",
    "Depth-first Search (DFS) is an algorithm that explores paths through a maze deeply before backtracking. It uses a stack to manage its operations, pushing the current path explored onto the stack and moving deeper until it reaches a dead end or the goal. In the context of our simplified Pac-Man game, the DFS algorithm is utilized to navigate through the maze, seeking out all four corners where food is located.\n",
    "\n",
    "This implementation leverages DFS to identify the shortest path from the starting point to each food item, one at a time. Upon reaching a food item, it proceeds from that corner to the next until all foods are collected. The algorithm ensures that each movement is viable, avoiding walls and revisiting previously traversed paths, thereby efficiently covering the maze.\n",
    "\n",
    "### Implementation Details\n",
    "\n",
    "- **Stack Utilization**: The stack helps in tracking the path being explored, allowing the algorithm to backtrack efficiently when no further moves are possible.\n",
    "- **Path Tracking**: As the algorithm progresses, it records the path taken. This is crucial for visualizing the route that Pac-Man takes to reach each corner.\n",
    "- **Neighbor Generation**: A helper function, `neighbors`, computes viable movements from any given cell, ensuring that Pac-Man does not collide with walls or move outside the maze boundaries.\n",
    "- **Goal-Oriented Search**: Each segment of the search terminates upon reaching a corner, and the path to that corner is recorded. After reaching one corner, the search resumes from that point to the next corner.\n",
    "\n",
    "<br/>\n"
   ]
  },
  {
   "cell_type": "code",
   "execution_count": 19,
   "metadata": {},
   "outputs": [
    {
     "data": {
      "image/png": "[encoded data removed]",
      "text/plain": [
       "<Figure size 300x300 with 1 Axes>"
      ]
     },
     "metadata": {},
     "output_type": "display_data"
    },
    {
     "data": {
      "image/png": "[encoded data removed]",
      "text/plain": [
       "<Figure size 300x300 with 1 Axes>"
      ]
     },
     "metadata": {},
     "output_type": "display_data"
    },
    {
     "data": {
      "image/png": "[encoded data removed]",
      "text/plain": [
       "<Figure size 300x300 with 1 Axes>"
      ]
     },
     "metadata": {},
     "output_type": "display_data"
    },
    {
     "data": {
      "image/png": "[encoded data removed]",
      "text/plain": [
       "<Figure size 300x300 with 1 Axes>"
      ]
     },
     "metadata": {},
     "output_type": "display_data"
    }
   ],
   "source": [
    "def dfs(maze, start, goal):\n",
    "    # Stack for DFS\n",
    "    stack = [(start, [start])]\n",
    "\n",
    "    while stack:\n",
    "        (vertex, path) = stack.pop()\n",
    "\n",
    "        # Generate neighbors for current vertex, avoiding already visited nodes in the path\n",
    "        for next in neighbors(maze, vertex):\n",
    "            if next in path:\n",
    "                continue\n",
    "\n",
    "            if next == goal:\n",
    "                # Return the path if the goal is found\n",
    "                return path + [next]\n",
    "\n",
    "            stack.append((next, path + [next]))\n",
    "\n",
    "    return None\n",
    "\n",
    "# Helper function to generate neighbors\n",
    "def neighbors(maze, current):\n",
    "    directions = [(0, 1), (1, 0), (0, -1), (-1, 0)]\n",
    "    (x, y) = current\n",
    "    result = []\n",
    "\n",
    "    for dx, dy in directions:\n",
    "        nx, ny = x + dx, y + dy\n",
    "\n",
    "        # Check if the neighbor is within the maze and not a wall\n",
    "        if 0 <= nx < len(maze) and 0 <= ny < len(maze[0]) and maze[nx][ny] != 1:\n",
    "            result.append((nx, ny))\n",
    "\n",
    "    return result\n",
    "\n",
    "def find_all_foods_dfs(maze, start, foods):\n",
    "    paths = []\n",
    "    current_position = start\n",
    "\n",
    "    for food in foods:\n",
    "        path_to_food = dfs(maze, current_position, food)\n",
    "\n",
    "        if path_to_food:\n",
    "            paths.append(path_to_food)\n",
    "            current_position = food\n",
    "\n",
    "    return paths\n",
    "\n",
    "\n",
    "# Depth-first search\n",
    "start_point = (5, 6)\n",
    "corner_foods = [(1, 1), (1, len(sample_maze[0]) - 2), (len(sample_maze) - 2, 1), (len(sample_maze) - 2, len(sample_maze[0]) - 2)]\n",
    "dfs_path = find_all_foods_dfs(sample_maze, start_point, corner_foods)\n",
    "show_solution(sample_maze, start_point, dfs_path)"
   ]
  },
  {
   "cell_type": "markdown",
   "metadata": {},
   "source": [
    "### Efficiency of the Path"
   ]
  },
  {
   "cell_type": "code",
   "execution_count": 21,
   "metadata": {},
   "outputs": [
    {
     "name": "stdout",
     "output_type": "stream",
     "text": [
      "The number of steps taken by Pac-Man to complete the path is: 93\n"
     ]
    }
   ],
   "source": [
    "print(f\"The number of steps taken by Pac-Man to complete the path is: {count_steps(dfs_path)}\")"
   ]
  },
  {
   "cell_type": "markdown",
   "metadata": {},
   "source": [
    "---\n",
    "## Depth-Limited Search (DLS)\n",
    "\n",
    "Depth-Limited Search (DLS) is a variant of the classic Depth-First Search (DFS) that adds a limit to the depth it can explore. This limitation helps prevent the search from veering off into deep or infinite paths, which is especially useful in environments where paths can potentially become very long or lead to cycles.\n",
    "\n",
    "### DFS and Its Limitations:\n",
    "\n",
    "Depth-First Search is a powerful algorithm for navigating through a space by exploring as far as possible along each branch before backtracking. However, in complex mazes or graphs, DFS can get trapped in deep cycles or overly long paths, making it inefficient for some applications.\n",
    "\n",
    "### How DLS Enhances DFS:\n",
    "\n",
    "DLS introduces a depth limit to the traditional DFS approach. This limit is a predefined threshold that stops the search from going deeper than a certain number of steps. By doing so, DLS combines the thoroughness of DFS with the practicality needed in large or complex mazes. For our Pac-Man game, DLS ensures that Pac-Man does not get lost in parts of the maze that do not lead to a corner quickly.\n",
    "\n",
    "### Implementation in the Pac-Man Game:\n",
    "\n",
    "In our simplified Pac-Man setup, where the objective is to find and eat food located at the four corners of the maze, DLS is particularly useful. It prevents Pac-Man from wandering too far from a productive path. Here's a brief look at how DLS is implemented and utilized:\n",
    "\n",
    "- **Limiting Depth**: A depth limit is set, beyond which the search will not continue. This helps in avoiding unnecessarily long paths and ensures that the search is manageable and timely.\n",
    "- **Path Tracking**: Similar to DFS, DLS tracks the path taken to reach each corner. If a path exceeds the set limit without reaching a corner, it's abandoned, and the search backtracks to explore other possibilities.\n",
    "- **Goal-Oriented Search**: Each segment of the search aims directly for the nearest corner that has not yet been visited, using the depth limit to keep the search focused and efficient.\n",
    "\n"
   ]
  },
  {
   "cell_type": "code",
   "execution_count": 38,
   "metadata": {},
   "outputs": [
    {
     "data": {
      "image/png": "[encoded data removed]",
      "text/plain": [
       "<Figure size 300x300 with 1 Axes>"
      ]
     },
     "metadata": {},
     "output_type": "display_data"
    },
    {
     "data": {
      "image/png": "[encoded data removed]",
      "text/plain": [
       "<Figure size 300x300 with 1 Axes>"
      ]
     },
     "metadata": {},
     "output_type": "display_data"
    },
    {
     "data": {
      "image/png": "[encoded data removed]",
      "text/plain": [
       "<Figure size 300x300 with 1 Axes>"
      ]
     },
     "metadata": {},
     "output_type": "display_data"
    },
    {
     "data": {
      "image/png": "[encoded data removed]",
      "text/plain": [
       "<Figure size 300x300 with 1 Axes>"
      ]
     },
     "metadata": {},
     "output_type": "display_data"
    }
   ],
   "source": [
    "# Helper function to generate neighbors\n",
    "def neighbors(maze, current):\n",
    "    directions = [(0, 1), (1, 0), (0, -1), (-1, 0)]\n",
    "    (x, y) = current\n",
    "    result = []\n",
    "\n",
    "    for dx, dy in directions:\n",
    "        nx, ny = x + dx, y + dy\n",
    "\n",
    "        # Check if the neighbor is within the maze and not a wall\n",
    "        if 0 <= nx < len(maze) and 0 <= ny < len(maze[0]) and maze[nx][ny] != 1:\n",
    "            result.append((nx, ny))\n",
    "\n",
    "    return result\n",
    "\n",
    "# Depth-Limited Search\n",
    "def dls(maze, start, goal, limit):\n",
    "    return dls_recursive(maze, start, goal, limit, [start])\n",
    "\n",
    "def dls_recursive(maze, vertex, goal, limit, path):\n",
    "    if limit < 0:\n",
    "        return None\n",
    "\n",
    "    if vertex == goal:\n",
    "        return path\n",
    "\n",
    "    for next in neighbors(maze, vertex):\n",
    "        if next not in path:\n",
    "            next_path = dls_recursive(maze, next, goal, limit-1, path + [next])\n",
    "            if next_path:\n",
    "                return next_path\n",
    "\n",
    "    return None\n",
    "    \n",
    "def find_all_foods_dls(maze, start, foods, limit):\n",
    "    paths = []\n",
    "    current_position = start\n",
    "\n",
    "    for food in foods:\n",
    "        path_to_food = dls(maze, current_position, food, limit)\n",
    "\n",
    "        if path_to_food:\n",
    "            paths.append(path_to_food)\n",
    "            current_position = food\n",
    "\n",
    "    return paths\n",
    "\n",
    "\n",
    "# Depth limited search\n",
    "start_point = (5, 6)\n",
    "corner_foods = [(1, 1), (1, len(sample_maze[0]) - 2), (len(sample_maze) - 2, 1), (len(sample_maze) - 2, len(sample_maze[0]) - 2)]\n",
    "depth_limit = 30\n",
    "dls_path = find_all_foods_dls(sample_maze, start_point, corner_foods, depth_limit)\n",
    "show_solution(sample_maze, start_point, dls_path)\n"
   ]
  },
  {
   "cell_type": "markdown",
   "metadata": {},
   "source": [
    "### Efficiency of the Path"
   ]
  },
  {
   "cell_type": "code",
   "execution_count": 39,
   "metadata": {},
   "outputs": [
    {
     "name": "stdout",
     "output_type": "stream",
     "text": [
      "The number of steps taken by Pac-Man to complete the path is: 83\n"
     ]
    }
   ],
   "source": [
    "print(f\"The number of steps taken by Pac-Man to complete the path is: {count_steps(dls_path)}\")"
   ]
  },
  {
   "cell_type": "markdown",
   "metadata": {},
   "source": [
    "---\n",
    "## Iterative Deepening Search (IDS)\n",
    "\n",
    "Iterative Deepening Search (IDS) is an advanced algorithm that combines the strengths of Depth-First Search (DFS) and Breadth-First Search (BFS) by systematically increasing the depth limit used in Depth-Limited Search (DLS). IDS is particularly useful in pathfinding and puzzle-solving scenarios where the solution's depth is unknown and where maintaining low memory overhead is crucial.\n",
    "\n",
    "### Relationship between DFS, DLS, and IDS:\n",
    "\n",
    "- **Depth-First Search (DFS)**: DFS explores as deep as possible into the graph before backtracking. While efficient in terms of memory usage compared to BFS, it may get stuck in deep or infinite paths without ever exploring other branches.\n",
    "- **Depth-Limited Search (DLS)**: DLS modifies DFS by imposing a limit on the depth it can explore. This prevents the algorithm from venturing too far into potentially infinite paths but can miss solutions beyond the set depth limit.\n",
    "- **Iterative Deepening Search (IDS)**: IDS addresses the limitations of both DFS and DLS by incrementally increasing the depth limit. Starting at zero or a small number, IDS repeatedly applies DLS, each time with an increased depth limit. This approach ensures that it combines the space efficiency of DFS and the completeness and optimality of BFS, as it can find the shortest path without exploring too much of the graph at once.\n",
    "\n",
    "<br/>"
   ]
  },
  {
   "cell_type": "code",
   "execution_count": 40,
   "metadata": {},
   "outputs": [
    {
     "data": {
      "image/png": "[encoded data removed]",
      "text/plain": [
       "<Figure size 300x300 with 1 Axes>"
      ]
     },
     "metadata": {},
     "output_type": "display_data"
    },
    {
     "data": {
      "image/png": "[encoded data removed]",
      "text/plain": [
       "<Figure size 300x300 with 1 Axes>"
      ]
     },
     "metadata": {},
     "output_type": "display_data"
    },
    {
     "data": {
      "image/png": "[encoded data removed]",
      "text/plain": [
       "<Figure size 300x300 with 1 Axes>"
      ]
     },
     "metadata": {},
     "output_type": "display_data"
    },
    {
     "data": {
      "image/png": "[encoded data removed]",
      "text/plain": [
       "<Figure size 300x300 with 1 Axes>"
      ]
     },
     "metadata": {},
     "output_type": "display_data"
    }
   ],
   "source": [
    "def neighbors(maze, current):\n",
    "    directions = [(0, 1), (1, 0), (0, -1), (-1, 0)]\n",
    "    (x, y) = current\n",
    "    result = []\n",
    "\n",
    "    for dx, dy in directions:\n",
    "        nx, ny = x + dx, y + dy\n",
    "\n",
    "        # Check if the neighbor is within the maze and not a wall\n",
    "        if 0 <= nx < len(maze) and 0 <= ny < len(maze[0]) and maze[nx][ny] != 1:\n",
    "            result.append((nx, ny))\n",
    "\n",
    "    return result\n",
    "\n",
    "def dls(maze, start, goal, limit):\n",
    "    return dls_recursive(maze, start, goal, limit, [start])\n",
    "\n",
    "def dls_recursive(maze, vertex, goal, limit, path):\n",
    "    if limit < 0:\n",
    "        return None\n",
    "    if vertex == goal:\n",
    "        return path\n",
    "    for next in neighbors(maze, vertex):\n",
    "        if next not in path:\n",
    "            next_path = dls_recursive(maze, next, goal, limit-1, path + [next])\n",
    "            if next_path:\n",
    "                return next_path\n",
    "    return None\n",
    "\n",
    "def ids(maze, start, goal, max_depth):\n",
    "    for depth in range(max_depth):\n",
    "        path = dls(maze, start, goal, depth)\n",
    "        if path:\n",
    "            return path\n",
    "    return None\n",
    "\n",
    "def find_all_foods_ids(maze, start, foods, max_depth):\n",
    "    paths = []\n",
    "    current_position = start\n",
    "\n",
    "    for food in foods:\n",
    "        path_to_food = ids(maze, current_position, food, max_depth)\n",
    "\n",
    "        if path_to_food:\n",
    "            paths.append(path_to_food)\n",
    "            current_position = food\n",
    "\n",
    "    return paths\n",
    "\n",
    "\n",
    "# Iterative deepening search\n",
    "start_pt = (5, 6)\n",
    "depth_limit = 30\n",
    "corner_foods = [(1, 1), (1, len(sample_maze[0]) - 2), (len(sample_maze) - 2, 1), (len(sample_maze) - 2, len(sample_maze[0]) - 2)]\n",
    "ids_path = find_all_foods_ids(sample_maze, start_pt, corner_foods, depth_limit)\n",
    "show_solution(sample_maze, start_point, ids_path)"
   ]
  },
  {
   "cell_type": "markdown",
   "metadata": {},
   "source": [
    "### Efficiency of the Path"
   ]
  },
  {
   "cell_type": "code",
   "execution_count": 41,
   "metadata": {},
   "outputs": [
    {
     "name": "stdout",
     "output_type": "stream",
     "text": [
      "The number of steps taken by Pac-Man to complete the path is: 73\n"
     ]
    }
   ],
   "source": [
    "print(f\"The number of steps taken by Pac-Man to complete the path is: {count_steps(ids_path)}\")"
   ]
  },
  {
   "cell_type": "code",
   "execution_count": null,
   "metadata": {},
   "outputs": [],
   "source": []
  }
 ],
 "metadata": {
  "kernelspec": {
   "display_name": "Python 3",
   "language": "python",
   "name": "python3"
  },
  "language_info": {
   "codemirror_mode": {
    "name": "ipython",
    "version": 3
   },
   "file_extension": ".py",
   "mimetype": "text/x-python",
   "name": "python",
   "nbconvert_exporter": "python",
   "pygments_lexer": "ipython3",
   "version": "3.12.2"
  }
 },
 "nbformat": 4,
 "nbformat_minor": 2
}
