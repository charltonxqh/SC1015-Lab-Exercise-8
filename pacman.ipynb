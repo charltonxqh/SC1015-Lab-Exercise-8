{
 "cells": [
  {
   "cell_type": "markdown",
   "metadata": {},
   "source": [
    "# Simplified Pac-Man: A Study of AI Search Algorithms\n",
    "\n",
    "---\n",
    "\n",
    "In this notebook, we embark on a journey to explore the fascinating world of search algorithms within the realm of AI, using the classic and well-loved game of Pac-Man as our case study. Our aim is to understand and implement a variety of search strategies to navigate the Pac-Man through a maze. This simplified version of the game provides a perfect setting to delve into both uninformed (blind) and informed (heuristic-based) search algorithms, crucial in the field of Artificial Intelligence.\n",
    "\n",
    "The algorithms we will explore include:\n",
    "\n",
    "### Uninformed Search Algorithms:\n",
    "- **Breadth-First Search (BFS)**: Known for its completeness and simplicity, BFS explores the maze level by level, ensuring no spot is missed.\n",
    "- **Depth-First Search (DFS)**: This algorithm takes a deeper dive into the maze, exploring paths to their fullest before backtracking, often leading to more efficient solutions in certain scenarios.\n",
    "- **Depth-Limited Search (DLS)**: A variant of DFS, DLS adds a depth limitation to prevent wandering infinitely in loops.\n",
    "- **Iterative Deepening Search (IDS)**: Combining the virtues of BFS's completeness and DFS's space efficiency, IDS progressively deepens the search.\n",
    "- **Uniform Cost Search (UCS)**: Prioritizing paths based on their cumulative cost, UCS is ideal for finding the least costly path in terms of distance or other metrics.\n",
    "\n",
    "### Informed Search Algorithms:\n",
    "- **Greedy Search**: Focusing on the most promising path, Greedy Search can be efficient but lacks completeness.\n",
    "- **A\\* Search**: A sophisticated algorithm that combines the best of both worlds – it's both complete and optimal, efficiently finding the shortest path using heuristics.\n",
    "\n",
    "Each algorithm has its unique characteristics and is suitable for different types of mazes and objectives. Through this exploration, we will not only understand these algorithms theoretically but also see them in action as we program Pac-Man to navigate the maze, find the dots, and avoid ghosts.\n",
    "\n",
    "As we progress, we'll discuss the implementation details, strengths, and limitations of each algorithm, providing a comprehensive understanding of AI's approach to problem-solving in games and beyond.\n",
    "\n",
    "So, let's gear up to dive into the code, unravel these algorithms, and bring Pac-Man to life in this AI-powered maze adventure!\n",
    "\n",
    "---\n"
   ]
  },
  {
   "cell_type": "markdown",
   "metadata": {},
   "source": [
    "## Introduction to Our Simplified Pac-Man Game\n",
    "\n",
    "Dive into the world of AI pathfinding with our simplified version of the iconic ```Pac-Man``` game. Unlike the traditional game (https://en.wikipedia.org/wiki/Pac-Man), this simplified version focuses purely on strategic movement and pathfinding, essential components in the field of Artificial Intelligence. In this game, our Pac-Man has to navigate through a maze to eat all four foods placed in each corner, but **without** the challenge of evading ghosts. This setup provides an excellent scenario for understanding and applying different search algorithms.\n",
    "\n",
    "### Game Setup and Visualization:\n",
    "\n",
    "- **Maze Layout**: The game is played on a grid-based maze, similar to the classic Pac-Man, but with a twist. Here, the maze consists of walkable paths and walls.\n",
    "- **Colors in the Maze**:\n",
    "  - **Red**: Represents the food items placed in each corner of the maze.\n",
    "  - **Yellow**: Denotes the starting position of Pac-Man.\n",
    "  - **Black**: Indicates the walls or barriers in the maze that Pac-Man cannot pass through.\n",
    "  - **White**: Signifies walkable paths where Pac-Man can move.\n",
    "  - **Blue**: Shows the path taken by Pac-Man to reach the food.\n",
    "\n",
    "### Objectives:\n",
    "\n",
    "1. **Pathfinding Challenge**: The primary goal is to find the shortest path for Pac-Man to eat all four foods placed in the maze's corners. \n",
    "2. **Search Algorithms**: To achieve this, we will employ various search algorithms, both uninformed and informed, each offering a unique approach to solving the maze.\n",
    "3. **Visualization**: After applying each algorithm, the resultant path taken by Pac-Man will be visualized on the maze. This will not only showcase the algorithm's effectiveness but also provide visual feedback on the strategy used by Pac-Man.\n",
    "\n",
    "---\n"
   ]
  },
  {
   "cell_type": "markdown",
   "metadata": {},
   "source": [
    "### Essential Libraries\n",
    "\n",
    "Let's begin by importing the essential Python libraries."
   ]
  },
  {
   "cell_type": "code",
   "execution_count": 1,
   "metadata": {},
   "outputs": [],
   "source": [
    "from collections import deque\n",
    "import matplotlib.pyplot as plt\n",
    "from matplotlib.colors import ListedColormap\n",
    "from copy import deepcopy\n",
    "from math import inf\n",
    "import heapq"
   ]
  }
 ],
 "metadata": {
  "kernelspec": {
   "display_name": "Python 3",
   "language": "python",
   "name": "python3"
  },
  "language_info": {
   "codemirror_mode": {
    "name": "ipython",
    "version": 3
   },
   "file_extension": ".py",
   "mimetype": "text/x-python",
   "name": "python",
   "nbconvert_exporter": "python",
   "pygments_lexer": "ipython3",
   "version": "3.12.2"
  }
 },
 "nbformat": 4,
 "nbformat_minor": 2
}
