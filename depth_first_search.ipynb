{
 "cells": [
  {
   "cell_type": "code",
   "execution_count": 5,
   "metadata": {},
   "outputs": [],
   "source": [
    "from maze_visualizer import *"
   ]
  },
  {
   "cell_type": "code",
   "execution_count": 2,
   "metadata": {},
   "outputs": [],
   "source": [
    "def dfs(maze, start, goal):\n",
    "    # Stack for DFS\n",
    "    stack = [(start, [start])]\n",
    "\n",
    "    while stack:\n",
    "        (vertex, path) = stack.pop()\n",
    "\n",
    "        # Generate neighbors for current vertex, avoiding already visited nodes in the path\n",
    "        for next in neighbors(maze, vertex):\n",
    "            if next in path:\n",
    "                continue\n",
    "\n",
    "            if next == goal:\n",
    "                # Return the path if the goal is found\n",
    "                return path + [next]\n",
    "\n",
    "            stack.append((next, path + [next]))\n",
    "\n",
    "    return None\n",
    "\n",
    "# Helper function to generate neighbors\n",
    "def neighbors(maze, current):\n",
    "    directions = [(0, 1), (1, 0), (0, -1), (-1, 0)]\n",
    "    (x, y) = current\n",
    "    result = []\n",
    "\n",
    "    for dx, dy in directions:\n",
    "        nx, ny = x + dx, y + dy\n",
    "\n",
    "        # Check if the neighbor is within the maze and not a wall\n",
    "        if 0 <= nx < len(maze) and 0 <= ny < len(maze[0]) and maze[nx][ny] != 1:\n",
    "            result.append((nx, ny))\n",
    "\n",
    "    return result\n",
    "\n",
    "def find_all_foods_dfs(maze, start, foods):\n",
    "    paths = []\n",
    "    current_position = start\n",
    "\n",
    "    for food in foods:\n",
    "        path_to_food = dfs(maze, current_position, food)\n",
    "\n",
    "        if path_to_food:\n",
    "            paths.append(path_to_food)\n",
    "            current_position = food\n",
    "\n",
    "    return paths"
   ]
  },
  {
   "cell_type": "code",
   "execution_count": 6,
   "metadata": {},
   "outputs": [
    {
     "data": {
      "image/png": "[encoded data removed]",
      "text/plain": [
       "<Figure size 300x300 with 1 Axes>"
      ]
     },
     "metadata": {},
     "output_type": "display_data"
    },
    {
     "data": {
      "image/png": "[encoded data removed]",
      "text/plain": [
       "<Figure size 300x300 with 1 Axes>"
      ]
     },
     "metadata": {},
     "output_type": "display_data"
    },
    {
     "data": {
      "image/png": "[encoded data removed]",
      "text/plain": [
       "<Figure size 300x300 with 1 Axes>"
      ]
     },
     "metadata": {},
     "output_type": "display_data"
    },
    {
     "data": {
      "image/png": "[encoded data removed]",
      "text/plain": [
       "<Figure size 300x300 with 1 Axes>"
      ]
     },
     "metadata": {},
     "output_type": "display_data"
    }
   ],
   "source": [
    "start_point = (5, 6)\n",
    "corner_foods = [(1, 1), (1, len(sample_maze[0]) - 2), (len(sample_maze) - 2, 1), (len(sample_maze) - 2, len(sample_maze[0]) - 2)]\n",
    "eaten_foods = []\n",
    "\n",
    "dfs_path = find_all_foods_dfs(sample_maze, start_point, corner_foods)\n",
    "\n",
    "show_solution(sample_maze, start_point, dfs_path)"
   ]
  },
  {
   "cell_type": "code",
   "execution_count": 4,
   "metadata": {},
   "outputs": [
    {
     "data": {
      "text/plain": [
       "94"
      ]
     },
     "execution_count": 4,
     "metadata": {},
     "output_type": "execute_result"
    }
   ],
   "source": [
    "count_steps(dfs_path)"
   ]
  },
  {
   "cell_type": "code",
   "execution_count": null,
   "metadata": {},
   "outputs": [],
   "source": []
  }
 ],
 "metadata": {
  "kernelspec": {
   "display_name": "Python 3",
   "language": "python",
   "name": "python3"
  },
  "language_info": {
   "codemirror_mode": {
    "name": "ipython",
    "version": 3
   },
   "file_extension": ".py",
   "mimetype": "text/x-python",
   "name": "python",
   "nbconvert_exporter": "python",
   "pygments_lexer": "ipython3",
   "version": "3.12.2"
  }
 },
 "nbformat": 4,
 "nbformat_minor": 2
}
