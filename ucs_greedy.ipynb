{
 "cells": [
  {
   "cell_type": "markdown",
   "metadata": {},
   "source": [
    "## Uniform Cost Search "
   ]
  },
  {
   "cell_type": "code",
   "execution_count": 2,
   "metadata": {},
   "outputs": [],
   "source": [
    "import heapq\n",
    "\n",
    "def ucs_search(grid, start):\n",
    "    corners = [(1, 1), (1, len(grid[0])-2), (len(grid)-2, 1), (len(grid)-2, len(grid[0])-2)]\n",
    "    goal = min(corners, key=lambda x: abs(start[0] - x[0]) + abs(start[1] - x[1]))\n",
    "    open_set = []\n",
    "    heapq.heappush(open_set, (0, start))  # Only g_score\n",
    "    came_from = {}\n",
    "    g_score = {start: 0}\n",
    "\n",
    "    while open_set:\n",
    "        current_g, current = heapq.heappop(open_set)\n",
    "        if current == goal:\n",
    "            return reconstruct_path(came_from, current)\n",
    "\n",
    "        for neighbor in neighbors(grid, current):\n",
    "            tentative_g_score = g_score[current] + 1  # Assuming all movements have a cost of 1\n",
    "            if neighbor not in g_score or tentative_g_score < g_score[neighbor]:\n",
    "                came_from[neighbor] = current\n",
    "                g_score[neighbor] = tentative_g_score\n",
    "                heapq.heappush(open_set, (g_score[neighbor], neighbor))\n"
   ]
  },
  {
   "cell_type": "code",
   "execution_count": 7,
   "metadata": {},
   "outputs": [
    {
     "data": {
      "image/png": "[encoded data removed]",
      "text/plain": [
       "<Figure size 300x300 with 1 Axes>"
      ]
     },
     "metadata": {},
     "output_type": "display_data"
    }
   ],
   "source": [
    "import heapq\n",
    "from maze_visualizer import *\n",
    "\n",
    "def ucs_search(grid, start, goal):\n",
    "    open_set = []\n",
    "    heapq.heappush(open_set, (0, start))  # Only g_score, start node\n",
    "    came_from = {}\n",
    "    g_score = {start: 0}\n",
    "\n",
    "    while open_set:\n",
    "        current_g, current = heapq.heappop(open_set)\n",
    "        \n",
    "        if current == goal:\n",
    "            return reconstruct_path(came_from, current)\n",
    "        \n",
    "        for neighbor in neighbors(grid, current):\n",
    "            tentative_g_score = g_score[current] + 1  # Assuming all movements have a cost of 1\n",
    "            if neighbor not in g_score or tentative_g_score < g_score[neighbor]:\n",
    "                came_from[neighbor] = current\n",
    "                g_score[neighbor] = tentative_g_score\n",
    "                heapq.heappush(open_set, (g_score[neighbor], neighbor))\n",
    "                \n",
    "    return None\n",
    "\n",
    "def reconstruct_path(came_from, current):\n",
    "    total_path = [current]\n",
    "    while current in came_from:\n",
    "        current = came_from[current]\n",
    "        total_path.insert(0, current)\n",
    "    return total_path\n",
    "\n",
    "def neighbors(grid, cell):\n",
    "    neighbors = []\n",
    "    for dx, dy in [(1, 0), (-1, 0), (0, 1), (0, -1)]:\n",
    "        x, y = cell[0] + dx, cell[1] + dy\n",
    "        if 0 <= x < len(grid) and 0 <= y < len(grid[0]) and grid[x][y] != 1:\n",
    "            neighbors.append((x, y))\n",
    "    return neighbors\n",
    "\n",
    "# Define the start position and the goal\n",
    "start = (5, 6)\n",
    "goal = (1, 1)\n",
    "\n",
    "# Use the sample_maze from the given visualization library\n",
    "path = ucs_search(sample_maze, start, goal)\n",
    "\n",
    "# Now, use the show_solution function to visualize the maze and the path\n",
    "show_solution(sample_maze, start, [path])\n"
   ]
  },
  {
   "cell_type": "code",
   "execution_count": 11,
   "metadata": {},
   "outputs": [
    {
     "data": {
      "image/png": "[encoded data removed]",
      "text/plain": [
       "<Figure size 300x300 with 1 Axes>"
      ]
     },
     "metadata": {},
     "output_type": "display_data"
    }
   ],
   "source": [
    "from maze_visualizer import *\n",
    "import heapq\n",
    "\n",
    "def ucs_search_all_corners(grid, start):\n",
    "    # Define the four corners of the maze\n",
    "    corners = [(1, 1), (1, len(grid[0])-2), (len(grid)-2, 1), (len(grid)-2, len(grid[0])-2)]\n",
    "    visited_corners = set()\n",
    "    current_position = start\n",
    "    complete_path = []\n",
    "    \n",
    "    while len(visited_corners) < len(corners):\n",
    "        # Find the closest unvisited corner\n",
    "        closest_corner = None\n",
    "        shortest_path_to_corner = None\n",
    "        for corner in corners:\n",
    "            if corner not in visited_corners:\n",
    "                path_to_corner = ucs_search_to_corner(grid, current_position, corner)\n",
    "                if shortest_path_to_corner is None or len(path_to_corner) < len(shortest_path_to_corner):\n",
    "                    closest_corner = corner\n",
    "                    shortest_path_to_corner = path_to_corner\n",
    "                    \n",
    "        # Update the path and visited corners\n",
    "        if closest_corner:\n",
    "            visited_corners.add(closest_corner)\n",
    "            complete_path += shortest_path_to_corner[1:]  # Exclude the start point for subsequent paths\n",
    "            current_position = closest_corner\n",
    "\n",
    "    return complete_path\n",
    "\n",
    "def ucs_search_to_corner(grid, start, goal):\n",
    "    open_set = []\n",
    "    heapq.heappush(open_set, (0, start))  # Only g_score, start node\n",
    "    came_from = {}\n",
    "    g_score = {start: 0}\n",
    "\n",
    "    while open_set:\n",
    "        current_g, current = heapq.heappop(open_set)\n",
    "        \n",
    "        if current == goal:\n",
    "            return reconstruct_path(came_from, current)\n",
    "        \n",
    "        for neighbor in neighbors(grid, current):\n",
    "            tentative_g_score = g_score[current] + 1  # Assuming all movements have a cost of 1\n",
    "            if neighbor not in g_score or tentative_g_score < g_score[neighbor]:\n",
    "                came_from[neighbor] = current\n",
    "                g_score[neighbor] = tentative_g_score\n",
    "                heapq.heappush(open_set, (g_score[neighbor], neighbor))\n",
    "                \n",
    "    return None\n",
    "\n",
    "# Remember to define or import 'reconstruct_path' and 'neighbors' functions as they were previously defined.\n",
    "\n",
    "# Now, use the modified UCS function to find a path through all corners\n",
    "start = (5, 6)  # Starting point\n",
    "all_corners_path = ucs_search_all_corners(sample_maze, start)\n",
    "\n",
    "# Visualize the complete path through all corners\n",
    "show_solution(sample_maze, start, [all_corners_path])\n"
   ]
  },
  {
   "cell_type": "code",
   "execution_count": 12,
   "metadata": {},
   "outputs": [
    {
     "name": "stdout",
     "output_type": "stream",
     "text": [
      "Segment 1: Start to Corner 1\n"
     ]
    },
    {
     "data": {
      "image/png": "[encoded data removed]",
      "text/plain": [
       "<Figure size 300x300 with 1 Axes>"
      ]
     },
     "metadata": {},
     "output_type": "display_data"
    },
    {
     "name": "stdout",
     "output_type": "stream",
     "text": [
      "Segment 2: Start to Corner 2\n"
     ]
    },
    {
     "data": {
      "image/png": "[encoded data removed]",
      "text/plain": [
       "<Figure size 300x300 with 1 Axes>"
      ]
     },
     "metadata": {},
     "output_type": "display_data"
    },
    {
     "name": "stdout",
     "output_type": "stream",
     "text": [
      "Segment 3: Start to Corner 3\n"
     ]
    },
    {
     "data": {
      "image/png": "[encoded data removed]",
      "text/plain": [
       "<Figure size 300x300 with 1 Axes>"
      ]
     },
     "metadata": {},
     "output_type": "display_data"
    },
    {
     "name": "stdout",
     "output_type": "stream",
     "text": [
      "Segment 4: Start to Corner 4\n"
     ]
    },
    {
     "data": {
      "image/png": "[encoded data removed]",
      "text/plain": [
       "<Figure size 300x300 with 1 Axes>"
      ]
     },
     "metadata": {},
     "output_type": "display_data"
    }
   ],
   "source": [
    "def ucs_search_all_corners(grid, start):\n",
    "    # Define the four corners of the maze\n",
    "    corners = [(1, 1), (1, len(grid[0])-2), (len(grid)-2, 1), (len(grid)-2, len(grid[0])-2)]\n",
    "    visited_corners = set()\n",
    "    current_position = start\n",
    "    paths_to_corners = []\n",
    "    \n",
    "    while len(visited_corners) < len(corners):\n",
    "        # Initialize variables for finding the closest corner\n",
    "        closest_corner = None\n",
    "        shortest_path_to_corner = None\n",
    "        \n",
    "        for corner in corners:\n",
    "            if corner not in visited_corners:\n",
    "                path_to_corner = ucs_search_to_corner(grid, current_position, corner)\n",
    "                # Check if this is the shortest path so far\n",
    "                if shortest_path_to_corner is None or len(path_to_corner) < len(shortest_path_to_corner):\n",
    "                    closest_corner = corner\n",
    "                    shortest_path_to_corner = path_to_corner\n",
    "        \n",
    "        if closest_corner:\n",
    "            visited_corners.add(closest_corner)\n",
    "            # Append the path to the specific corner\n",
    "            paths_to_corners.append(shortest_path_to_corner)\n",
    "            current_position = closest_corner\n",
    "\n",
    "    return paths_to_corners\n",
    "\n",
    "# Use the modified function to find paths to all corners\n",
    "start = (5, 6)  # Define the starting position\n",
    "all_corners_paths = ucs_search_all_corners(sample_maze, start)\n",
    "\n",
    "# Visualize and print each segment individually\n",
    "for i, path_segment in enumerate(all_corners_paths, start=1):\n",
    "    print(f\"Segment {i}: Start to Corner {i}\")\n",
    "    show_solution(sample_maze, start, [path_segment])\n",
    "    start = path_segment[-1]  # Update start to the end of the last segment for correct visualization\n"
   ]
  },
  {
   "cell_type": "code",
   "execution_count": 13,
   "metadata": {},
   "outputs": [
    {
     "data": {
      "text/plain": [
       "[(6, 6),\n",
       " (6, 5),\n",
       " (6, 4),\n",
       " (7, 4),\n",
       " (8, 4),\n",
       " (9, 4),\n",
       " (9, 3),\n",
       " (9, 2),\n",
       " (9, 1),\n",
       " (10, 1),\n",
       " (9, 1),\n",
       " (8, 1),\n",
       " (7, 1),\n",
       " (7, 2),\n",
       " (6, 2),\n",
       " (5, 2),\n",
       " (5, 1),\n",
       " (4, 1),\n",
       " (3, 1),\n",
       " (2, 1),\n",
       " (1, 1),\n",
       " (2, 1),\n",
       " (3, 1),\n",
       " (4, 1),\n",
       " (5, 1),\n",
       " (5, 2),\n",
       " (5, 3),\n",
       " (5, 4),\n",
       " (6, 4),\n",
       " (7, 4),\n",
       " (8, 4),\n",
       " (9, 4),\n",
       " (10, 4),\n",
       " (10, 5),\n",
       " (10, 6),\n",
       " (10, 7),\n",
       " (10, 8),\n",
       " (10, 9),\n",
       " (10, 10),\n",
       " (10, 9),\n",
       " (10, 8),\n",
       " (9, 8),\n",
       " (8, 8),\n",
       " (7, 8),\n",
       " (6, 8),\n",
       " (5, 8),\n",
       " (5, 9),\n",
       " (5, 10),\n",
       " (4, 10),\n",
       " (3, 10),\n",
       " (3, 9),\n",
       " (2, 9),\n",
       " (1, 9),\n",
       " (1, 10)]"
      ]
     },
     "execution_count": 13,
     "metadata": {},
     "output_type": "execute_result"
    }
   ],
   "source": [
    "all_corners_path"
   ]
  },
  {
   "cell_type": "markdown",
   "metadata": {},
   "source": [
    "## Greedy Search"
   ]
  },
  {
   "cell_type": "code",
   "execution_count": 8,
   "metadata": {},
   "outputs": [],
   "source": [
    "import heapq\n",
    "\n",
    "def greedy_best_first_search(grid, start):\n",
    "    corners = [(1, 1), (1, len(grid[0])-2), (len(grid)-2, 1), (len(grid)-2, len(grid[0])-2)]\n",
    "    goal = min(corners, key=lambda x: abs(start[0] - x[0]) + abs(start[1] - x[1]))\n",
    "    open_set = []\n",
    "    heapq.heappush(open_set, (heuristic_cost_estimate(start, goal), start))  # Only h_score\n",
    "    came_from = {}\n",
    "\n",
    "    while open_set:\n",
    "        current_h, current = heapq.heappop(open_set)\n",
    "        if current == goal:\n",
    "            return reconstruct_path(came_from, current)\n",
    "\n",
    "        for neighbor in neighbors(grid, current):\n",
    "            if neighbor not in came_from:  # Check if the neighbor is not already explored\n",
    "                came_from[neighbor] = current\n",
    "                heapq.heappush(open_set, (heuristic_cost_estimate(neighbor, goal), neighbor))\n"
   ]
  }
 ],
 "metadata": {
  "kernelspec": {
   "display_name": "Python 3.11.5 64-bit",
   "language": "python",
   "name": "python3"
  },
  "language_info": {
   "codemirror_mode": {
    "name": "ipython",
    "version": 3
   },
   "file_extension": ".py",
   "mimetype": "text/x-python",
   "name": "python",
   "nbconvert_exporter": "python",
   "pygments_lexer": "ipython3",
   "version": "3.11.5"
  },
  "orig_nbformat": 4,
  "vscode": {
   "interpreter": {
    "hash": "20e40d8fc09a6690434ad602c7eb2d8de15d36ec466bfbfb0de97c7c540d7363"
   }
  }
 },
 "nbformat": 4,
 "nbformat_minor": 2
}
