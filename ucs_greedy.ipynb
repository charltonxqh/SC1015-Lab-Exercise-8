{
 "cells": [
  {
   "cell_type": "markdown",
   "metadata": {},
   "source": [
    "## Uniform Cost Search "
   ]
  },
  {
   "cell_type": "code",
   "execution_count": 2,
   "metadata": {},
   "outputs": [],
   "source": [
    "import heapq\n",
    "\n",
    "def ucs_search(grid, start):\n",
    "    corners = [(1, 1), (1, len(grid[0])-2), (len(grid)-2, 1), (len(grid)-2, len(grid[0])-2)]\n",
    "    goal = min(corners, key=lambda x: abs(start[0] - x[0]) + abs(start[1] - x[1]))\n",
    "    open_set = []\n",
    "    heapq.heappush(open_set, (0, start))  # Only g_score\n",
    "    came_from = {}\n",
    "    g_score = {start: 0}\n",
    "\n",
    "    while open_set:\n",
    "        current_g, current = heapq.heappop(open_set)\n",
    "        if current == goal:\n",
    "            return reconstruct_path(came_from, current)\n",
    "\n",
    "        for neighbor in neighbors(grid, current):\n",
    "            tentative_g_score = g_score[current] + 1  # Assuming all movements have a cost of 1\n",
    "            if neighbor not in g_score or tentative_g_score < g_score[neighbor]:\n",
    "                came_from[neighbor] = current\n",
    "                g_score[neighbor] = tentative_g_score\n",
    "                heapq.heappush(open_set, (g_score[neighbor], neighbor))\n"
   ]
  },
  {
   "cell_type": "markdown",
   "metadata": {},
   "source": [
    "## Greedy Search"
   ]
  },
  {
   "cell_type": "code",
   "execution_count": 3,
   "metadata": {},
   "outputs": [],
   "source": [
    "import heapq\n",
    "\n",
    "def greedy_best_first_search(grid, start):\n",
    "    corners = [(1, 1), (1, len(grid[0])-2), (len(grid)-2, 1), (len(grid)-2, len(grid[0])-2)]\n",
    "    goal = min(corners, key=lambda x: abs(start[0] - x[0]) + abs(start[1] - x[1]))\n",
    "    open_set = []\n",
    "    heapq.heappush(open_set, (heuristic_cost_estimate(start, goal), start))  # Only h_score\n",
    "    came_from = {}\n",
    "\n",
    "    while open_set:\n",
    "        current_h, current = heapq.heappop(open_set)\n",
    "        if current == goal:\n",
    "            return reconstruct_path(came_from, current)\n",
    "\n",
    "        for neighbor in neighbors(grid, current):\n",
    "            if neighbor not in came_from:  # Check if the neighbor is not already explored\n",
    "                came_from[neighbor] = current\n",
    "                heapq.heappush(open_set, (heuristic_cost_estimate(neighbor, goal), neighbor))\n"
   ]
  }
 ],
 "metadata": {
  "kernelspec": {
   "display_name": "Python 3.11.5 64-bit",
   "language": "python",
   "name": "python3"
  },
  "language_info": {
   "codemirror_mode": {
    "name": "ipython",
    "version": 3
   },
   "file_extension": ".py",
   "mimetype": "text/x-python",
   "name": "python",
   "nbconvert_exporter": "python",
   "pygments_lexer": "ipython3",
   "version": "3.11.5"
  },
  "orig_nbformat": 4,
  "vscode": {
   "interpreter": {
    "hash": "20e40d8fc09a6690434ad602c7eb2d8de15d36ec466bfbfb0de97c7c540d7363"
   }
  }
 },
 "nbformat": 4,
 "nbformat_minor": 2
}
