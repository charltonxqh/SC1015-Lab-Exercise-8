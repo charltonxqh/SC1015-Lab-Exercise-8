{
 "cells": [
  {
   "cell_type": "markdown",
   "metadata": {},
   "source": [
    "## Uniform Cost Search "
   ]
  },
  {
   "cell_type": "code",
   "execution_count": 14,
   "metadata": {},
   "outputs": [
    {
     "data": {
      "image/png": "[encoded data removed]",
      "text/plain": [
       "<Figure size 300x300 with 1 Axes>"
      ]
     },
     "metadata": {},
     "output_type": "display_data"
    },
    {
     "data": {
      "image/png": "[encoded data removed]",
      "text/plain": [
       "<Figure size 300x300 with 1 Axes>"
      ]
     },
     "metadata": {},
     "output_type": "display_data"
    },
    {
     "data": {
      "image/png": "[encoded data removed]",
      "text/plain": [
       "<Figure size 300x300 with 1 Axes>"
      ]
     },
     "metadata": {},
     "output_type": "display_data"
    },
    {
     "data": {
      "image/png": "[encoded data removed]",
      "text/plain": [
       "<Figure size 300x300 with 1 Axes>"
      ]
     },
     "metadata": {},
     "output_type": "display_data"
    },
    {
     "data": {
      "text/plain": [
       "54"
      ]
     },
     "execution_count": 14,
     "metadata": {},
     "output_type": "execute_result"
    }
   ],
   "source": [
    "from maze_visualizer import *\n",
    "import heapq\n",
    "\n",
    "def ucs_search_to_corner(grid, start, goal):\n",
    "    frontier = []  # Priority queue\n",
    "    heapq.heappush(frontier, (0, start))  # (cost, position)\n",
    "    came_from = {start: None}  # Track the path\n",
    "    cost_so_far = {start: 0}  # Track the cost to reach a node\n",
    "\n",
    "    while frontier:\n",
    "        current_cost, current_position = heapq.heappop(frontier)\n",
    "\n",
    "        # Goal check\n",
    "        if current_position == goal:\n",
    "            break\n",
    "\n",
    "        for next_position in neighbors(grid, current_position):\n",
    "            new_cost = current_cost + 1  # Assuming uniform cost\n",
    "            if next_position not in cost_so_far or new_cost < cost_so_far[next_position]:\n",
    "                cost_so_far[next_position] = new_cost\n",
    "                priority = new_cost\n",
    "                heapq.heappush(frontier, (priority, next_position))\n",
    "                came_from[next_position] = current_position\n",
    "\n",
    "    # Reconstruct and return the path\n",
    "    return reconstruct_path(came_from, start, goal)\n",
    "\n",
    "def reconstruct_path(came_from, start, goal):\n",
    "    current = goal\n",
    "    path = [current]\n",
    "    while current != start:\n",
    "        current = came_from[current]\n",
    "        path.append(current)\n",
    "    path.reverse()  # Reverse the path to start->goal\n",
    "    return path\n",
    "\n",
    "def neighbors(grid, cell):\n",
    "    # This function should return a list of valid neighbor positions for a cell in the grid\n",
    "    directions = [(0, 1), (1, 0), (0, -1), (-1, 0)]  # Right, Down, Left, Up\n",
    "    result = []\n",
    "    for dx, dy in directions:\n",
    "        nx, ny = cell[0] + dx, cell[1] + dy\n",
    "        if 0 <= nx < len(grid) and 0 <= ny < len(grid[0]) and grid[nx][ny] == 0:\n",
    "            result.append((nx, ny))\n",
    "    return result\n",
    "\n",
    "\n",
    "def ucs_search_all_corners(grid, start):\n",
    "    # Define the four corners of the maze\n",
    "    corners = [(1, 1), (1, len(grid[0])-2), (len(grid)-2, 1), (len(grid)-2, len(grid[0])-2)]\n",
    "    visited_corners = set()\n",
    "    current_position = start\n",
    "    paths_to_corners = []\n",
    "    \n",
    "    while len(visited_corners) < len(corners):\n",
    "        # Initialize variables for finding the closest corner\n",
    "        closest_corner = None\n",
    "        shortest_path_to_corner = None\n",
    "        \n",
    "        for corner in corners:\n",
    "            if corner not in visited_corners:\n",
    "                path_to_corner = ucs_search_to_corner(grid, current_position, corner)\n",
    "                # Check if this is the shortest path so far\n",
    "                if shortest_path_to_corner is None or len(path_to_corner) < len(shortest_path_to_corner):\n",
    "                    closest_corner = corner\n",
    "                    shortest_path_to_corner = path_to_corner\n",
    "        \n",
    "        if closest_corner:\n",
    "            visited_corners.add(closest_corner)\n",
    "            # Append the path to the specific corner\n",
    "            paths_to_corners.append(shortest_path_to_corner)\n",
    "            current_position = closest_corner\n",
    "\n",
    "    return paths_to_corners\n",
    "\n",
    "# Use the modified function to find paths to all corners\n",
    "start = (5, 6)  # Define the starting position\n",
    "all_corners_paths = ucs_search_all_corners(sample_maze, start)\n",
    "\n",
    "show_solution(sample_maze, start, all_corners_paths)\n",
    "count_steps(all_corners_paths)"
   ]
  },
  {
   "cell_type": "markdown",
   "metadata": {},
   "source": [
    "## Greedy Search"
   ]
  },
  {
   "cell_type": "code",
   "execution_count": 15,
   "metadata": {},
   "outputs": [
    {
     "data": {
      "image/png": "[encoded data removed]",
      "text/plain": [
       "<Figure size 300x300 with 1 Axes>"
      ]
     },
     "metadata": {},
     "output_type": "display_data"
    },
    {
     "data": {
      "image/png": "[encoded data removed]",
      "text/plain": [
       "<Figure size 300x300 with 1 Axes>"
      ]
     },
     "metadata": {},
     "output_type": "display_data"
    },
    {
     "data": {
      "image/png": "[encoded data removed]",
      "text/plain": [
       "<Figure size 300x300 with 1 Axes>"
      ]
     },
     "metadata": {},
     "output_type": "display_data"
    },
    {
     "data": {
      "image/png": "[encoded data removed]",
      "text/plain": [
       "<Figure size 300x300 with 1 Axes>"
      ]
     },
     "metadata": {},
     "output_type": "display_data"
    },
    {
     "data": {
      "text/plain": [
       "61"
      ]
     },
     "execution_count": 15,
     "metadata": {},
     "output_type": "execute_result"
    }
   ],
   "source": [
    "\n",
    "def heuristic_cost_estimate(point, corners):\n",
    "    # If corners is a single tuple, convert it to a list with one tuple\n",
    "    if isinstance(corners, tuple):\n",
    "        corners = [corners]\n",
    "        \n",
    "    # Calculate the Manhattan distance from the point to the closest unvisited corner\n",
    "    closest_corner = min(corners, key=lambda x: abs(point[0] - x[0]) + abs(point[1] - x[1]))\n",
    "    return abs(point[0] - closest_corner[0]) + abs(point[1] - closest_corner[1])\n",
    "\n",
    "\n",
    "def reconstruct_path(came_from, current):\n",
    "    total_path = [current]\n",
    "    while current in came_from:\n",
    "        current = came_from[current]\n",
    "        total_path.insert(0, current)\n",
    "    return total_path\n",
    "\n",
    "def neighbors(grid, cell):\n",
    "    neighbors = []\n",
    "    for dx, dy in [(1, 0), (-1, 0), (0, 1), (0, -1)]:\n",
    "        x, y = cell[0] + dx, cell[1] + dy\n",
    "        if 0 <= x < len(grid) and 0 <= y < len(grid[0]) and grid[x][y] != 1:\n",
    "            neighbors.append((x, y))\n",
    "    return neighbors\n",
    "\n",
    "def greedy_best_first_search(grid, start):\n",
    "    corners = [(1, 1), (1, len(grid[0])-2), (len(grid)-2, 1), (len(grid)-2, len(grid[0])-2)]\n",
    "    unvisited_corners = set(corners)\n",
    "    path = []\n",
    "    visited = set()\n",
    "\n",
    "    while unvisited_corners:\n",
    "        closest_corner = min(unvisited_corners, key=lambda x: heuristic_cost_estimate(start, x))\n",
    "        goal = closest_corner\n",
    "\n",
    "        open_set = []\n",
    "        heapq.heappush(open_set, (heuristic_cost_estimate(start, goal), start))\n",
    "        came_from = {}\n",
    "        visited.clear()\n",
    "\n",
    "        while open_set:\n",
    "            current_heuristic, current = heapq.heappop(open_set)\n",
    "\n",
    "            if current == goal:\n",
    "                path.append(reconstruct_path(came_from, current))\n",
    "                start = current  # Update start to last goal for the next iteration\n",
    "                unvisited_corners.remove(goal)  # Remove reached corner from the goals\n",
    "                break  # Exit the loop since goal is reached\n",
    "\n",
    "            visited.add(current)\n",
    "\n",
    "            for neighbor in neighbors(grid, current):\n",
    "                if neighbor in visited:\n",
    "                    continue  # Skip visited neighbors\n",
    "                \n",
    "                if neighbor not in came_from:\n",
    "                    came_from[neighbor] = current\n",
    "                    heapq.heappush(open_set, (heuristic_cost_estimate(neighbor, goal), neighbor))\n",
    "\n",
    "            if not open_set:  # If open_set is empty, goal is not reachable\n",
    "                print(f\"Goal {goal} is not reachable from {start}. Moving to the next goal.\")\n",
    "                unvisited_corners.remove(goal)  # Remove the unreachable goal\n",
    "                break  # Break out of the loop to try the next goal\n",
    "\n",
    "    return path\n",
    "\n",
    "\n",
    "    \n",
    "path = greedy_best_first_search(sample_maze,(5,6))\n",
    "show_solution(sample_maze,(5,6),path)\n",
    "count_steps(path)"
   ]
  },
  {
   "cell_type": "code",
   "execution_count": null,
   "metadata": {},
   "outputs": [],
   "source": []
  }
 ],
 "metadata": {
  "kernelspec": {
   "display_name": "Python 3.11.5 64-bit",
   "language": "python",
   "name": "python3"
  },
  "language_info": {
   "codemirror_mode": {
    "name": "ipython",
    "version": 3
   },
   "file_extension": ".py",
   "mimetype": "text/x-python",
   "name": "python",
   "nbconvert_exporter": "python",
   "pygments_lexer": "ipython3",
   "version": "3.11.5"
  },
  "orig_nbformat": 4,
  "vscode": {
   "interpreter": {
    "hash": "20e40d8fc09a6690434ad602c7eb2d8de15d36ec466bfbfb0de97c7c540d7363"
   }
  }
 },
 "nbformat": 4,
 "nbformat_minor": 2
}
